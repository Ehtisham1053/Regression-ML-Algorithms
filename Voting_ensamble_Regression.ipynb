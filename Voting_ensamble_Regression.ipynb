{
  "nbformat": 4,
  "nbformat_minor": 0,
  "metadata": {
    "colab": {
      "provenance": [],
      "authorship_tag": "ABX9TyPN3x0zxuXWs+fSex8ZGgoS",
      "include_colab_link": true
    },
    "kernelspec": {
      "name": "python3",
      "display_name": "Python 3"
    },
    "language_info": {
      "name": "python"
    },
    "widgets": {
      "application/vnd.jupyter.widget-state+json": {
        "3309cf3d41a64bd595bc272a6a09f21f": {
          "model_module": "@jupyter-widgets/controls",
          "model_name": "IntSliderModel",
          "model_module_version": "1.5.0",
          "state": {
            "_dom_classes": [],
            "_model_module": "@jupyter-widgets/controls",
            "_model_module_version": "1.5.0",
            "_model_name": "IntSliderModel",
            "_view_count": null,
            "_view_module": "@jupyter-widgets/controls",
            "_view_module_version": "1.5.0",
            "_view_name": "IntSliderView",
            "continuous_update": true,
            "description": "Linear Regression",
            "description_tooltip": null,
            "disabled": false,
            "layout": "IPY_MODEL_16783fd8607e4477abc6cdbe0c847480",
            "max": 5,
            "min": 0,
            "orientation": "horizontal",
            "readout": true,
            "readout_format": "d",
            "step": 1,
            "style": "IPY_MODEL_d64d8d297fe2434baa7478d01a6f5df4",
            "value": 0
          }
        },
        "16783fd8607e4477abc6cdbe0c847480": {
          "model_module": "@jupyter-widgets/base",
          "model_name": "LayoutModel",
          "model_module_version": "1.2.0",
          "state": {
            "_model_module": "@jupyter-widgets/base",
            "_model_module_version": "1.2.0",
            "_model_name": "LayoutModel",
            "_view_count": null,
            "_view_module": "@jupyter-widgets/base",
            "_view_module_version": "1.2.0",
            "_view_name": "LayoutView",
            "align_content": null,
            "align_items": null,
            "align_self": null,
            "border": null,
            "bottom": null,
            "display": null,
            "flex": null,
            "flex_flow": null,
            "grid_area": null,
            "grid_auto_columns": null,
            "grid_auto_flow": null,
            "grid_auto_rows": null,
            "grid_column": null,
            "grid_gap": null,
            "grid_row": null,
            "grid_template_areas": null,
            "grid_template_columns": null,
            "grid_template_rows": null,
            "height": null,
            "justify_content": null,
            "justify_items": null,
            "left": null,
            "margin": null,
            "max_height": null,
            "max_width": null,
            "min_height": null,
            "min_width": null,
            "object_fit": null,
            "object_position": null,
            "order": null,
            "overflow": null,
            "overflow_x": null,
            "overflow_y": null,
            "padding": null,
            "right": null,
            "top": null,
            "visibility": null,
            "width": null
          }
        },
        "d64d8d297fe2434baa7478d01a6f5df4": {
          "model_module": "@jupyter-widgets/controls",
          "model_name": "SliderStyleModel",
          "model_module_version": "1.5.0",
          "state": {
            "_model_module": "@jupyter-widgets/controls",
            "_model_module_version": "1.5.0",
            "_model_name": "SliderStyleModel",
            "_view_count": null,
            "_view_module": "@jupyter-widgets/base",
            "_view_module_version": "1.2.0",
            "_view_name": "StyleView",
            "description_width": "initial",
            "handle_color": null
          }
        },
        "e75bae738d5a44f0a5462cdb1279b422": {
          "model_module": "@jupyter-widgets/controls",
          "model_name": "IntSliderModel",
          "model_module_version": "1.5.0",
          "state": {
            "_dom_classes": [],
            "_model_module": "@jupyter-widgets/controls",
            "_model_module_version": "1.5.0",
            "_model_name": "IntSliderModel",
            "_view_count": null,
            "_view_module": "@jupyter-widgets/controls",
            "_view_module_version": "1.5.0",
            "_view_name": "IntSliderView",
            "continuous_update": true,
            "description": "Ridge",
            "description_tooltip": null,
            "disabled": false,
            "layout": "IPY_MODEL_fad9e036a1a94664988b512d89895785",
            "max": 5,
            "min": 0,
            "orientation": "horizontal",
            "readout": true,
            "readout_format": "d",
            "step": 1,
            "style": "IPY_MODEL_8d59c97e4153426ca0c7a32dc53be2c6",
            "value": 0
          }
        },
        "fad9e036a1a94664988b512d89895785": {
          "model_module": "@jupyter-widgets/base",
          "model_name": "LayoutModel",
          "model_module_version": "1.2.0",
          "state": {
            "_model_module": "@jupyter-widgets/base",
            "_model_module_version": "1.2.0",
            "_model_name": "LayoutModel",
            "_view_count": null,
            "_view_module": "@jupyter-widgets/base",
            "_view_module_version": "1.2.0",
            "_view_name": "LayoutView",
            "align_content": null,
            "align_items": null,
            "align_self": null,
            "border": null,
            "bottom": null,
            "display": null,
            "flex": null,
            "flex_flow": null,
            "grid_area": null,
            "grid_auto_columns": null,
            "grid_auto_flow": null,
            "grid_auto_rows": null,
            "grid_column": null,
            "grid_gap": null,
            "grid_row": null,
            "grid_template_areas": null,
            "grid_template_columns": null,
            "grid_template_rows": null,
            "height": null,
            "justify_content": null,
            "justify_items": null,
            "left": null,
            "margin": null,
            "max_height": null,
            "max_width": null,
            "min_height": null,
            "min_width": null,
            "object_fit": null,
            "object_position": null,
            "order": null,
            "overflow": null,
            "overflow_x": null,
            "overflow_y": null,
            "padding": null,
            "right": null,
            "top": null,
            "visibility": null,
            "width": null
          }
        },
        "8d59c97e4153426ca0c7a32dc53be2c6": {
          "model_module": "@jupyter-widgets/controls",
          "model_name": "SliderStyleModel",
          "model_module_version": "1.5.0",
          "state": {
            "_model_module": "@jupyter-widgets/controls",
            "_model_module_version": "1.5.0",
            "_model_name": "SliderStyleModel",
            "_view_count": null,
            "_view_module": "@jupyter-widgets/base",
            "_view_module_version": "1.2.0",
            "_view_name": "StyleView",
            "description_width": "initial",
            "handle_color": null
          }
        },
        "6d614c4e7ed641219b85278f9eeda138": {
          "model_module": "@jupyter-widgets/controls",
          "model_name": "IntSliderModel",
          "model_module_version": "1.5.0",
          "state": {
            "_dom_classes": [],
            "_model_module": "@jupyter-widgets/controls",
            "_model_module_version": "1.5.0",
            "_model_name": "IntSliderModel",
            "_view_count": null,
            "_view_module": "@jupyter-widgets/controls",
            "_view_module_version": "1.5.0",
            "_view_name": "IntSliderView",
            "continuous_update": true,
            "description": "Lasso",
            "description_tooltip": null,
            "disabled": false,
            "layout": "IPY_MODEL_73f7954e30b6499bb9782b8fde1da6f8",
            "max": 5,
            "min": 0,
            "orientation": "horizontal",
            "readout": true,
            "readout_format": "d",
            "step": 1,
            "style": "IPY_MODEL_bf6a0234e73545728b1d6b61876734a3",
            "value": 0
          }
        },
        "73f7954e30b6499bb9782b8fde1da6f8": {
          "model_module": "@jupyter-widgets/base",
          "model_name": "LayoutModel",
          "model_module_version": "1.2.0",
          "state": {
            "_model_module": "@jupyter-widgets/base",
            "_model_module_version": "1.2.0",
            "_model_name": "LayoutModel",
            "_view_count": null,
            "_view_module": "@jupyter-widgets/base",
            "_view_module_version": "1.2.0",
            "_view_name": "LayoutView",
            "align_content": null,
            "align_items": null,
            "align_self": null,
            "border": null,
            "bottom": null,
            "display": null,
            "flex": null,
            "flex_flow": null,
            "grid_area": null,
            "grid_auto_columns": null,
            "grid_auto_flow": null,
            "grid_auto_rows": null,
            "grid_column": null,
            "grid_gap": null,
            "grid_row": null,
            "grid_template_areas": null,
            "grid_template_columns": null,
            "grid_template_rows": null,
            "height": null,
            "justify_content": null,
            "justify_items": null,
            "left": null,
            "margin": null,
            "max_height": null,
            "max_width": null,
            "min_height": null,
            "min_width": null,
            "object_fit": null,
            "object_position": null,
            "order": null,
            "overflow": null,
            "overflow_x": null,
            "overflow_y": null,
            "padding": null,
            "right": null,
            "top": null,
            "visibility": null,
            "width": null
          }
        },
        "bf6a0234e73545728b1d6b61876734a3": {
          "model_module": "@jupyter-widgets/controls",
          "model_name": "SliderStyleModel",
          "model_module_version": "1.5.0",
          "state": {
            "_model_module": "@jupyter-widgets/controls",
            "_model_module_version": "1.5.0",
            "_model_name": "SliderStyleModel",
            "_view_count": null,
            "_view_module": "@jupyter-widgets/base",
            "_view_module_version": "1.2.0",
            "_view_name": "StyleView",
            "description_width": "initial",
            "handle_color": null
          }
        },
        "c8f42c491e7c461cafc29db1b8ee7faf": {
          "model_module": "@jupyter-widgets/controls",
          "model_name": "IntSliderModel",
          "model_module_version": "1.5.0",
          "state": {
            "_dom_classes": [],
            "_model_module": "@jupyter-widgets/controls",
            "_model_module_version": "1.5.0",
            "_model_name": "IntSliderModel",
            "_view_count": null,
            "_view_module": "@jupyter-widgets/controls",
            "_view_module_version": "1.5.0",
            "_view_name": "IntSliderView",
            "continuous_update": true,
            "description": "ElasticNet",
            "description_tooltip": null,
            "disabled": false,
            "layout": "IPY_MODEL_d1f10b7653284be98c05e04bf9812383",
            "max": 5,
            "min": 0,
            "orientation": "horizontal",
            "readout": true,
            "readout_format": "d",
            "step": 1,
            "style": "IPY_MODEL_c6207edd393445ea9c1d280ce2f76ced",
            "value": 0
          }
        },
        "d1f10b7653284be98c05e04bf9812383": {
          "model_module": "@jupyter-widgets/base",
          "model_name": "LayoutModel",
          "model_module_version": "1.2.0",
          "state": {
            "_model_module": "@jupyter-widgets/base",
            "_model_module_version": "1.2.0",
            "_model_name": "LayoutModel",
            "_view_count": null,
            "_view_module": "@jupyter-widgets/base",
            "_view_module_version": "1.2.0",
            "_view_name": "LayoutView",
            "align_content": null,
            "align_items": null,
            "align_self": null,
            "border": null,
            "bottom": null,
            "display": null,
            "flex": null,
            "flex_flow": null,
            "grid_area": null,
            "grid_auto_columns": null,
            "grid_auto_flow": null,
            "grid_auto_rows": null,
            "grid_column": null,
            "grid_gap": null,
            "grid_row": null,
            "grid_template_areas": null,
            "grid_template_columns": null,
            "grid_template_rows": null,
            "height": null,
            "justify_content": null,
            "justify_items": null,
            "left": null,
            "margin": null,
            "max_height": null,
            "max_width": null,
            "min_height": null,
            "min_width": null,
            "object_fit": null,
            "object_position": null,
            "order": null,
            "overflow": null,
            "overflow_x": null,
            "overflow_y": null,
            "padding": null,
            "right": null,
            "top": null,
            "visibility": null,
            "width": null
          }
        },
        "c6207edd393445ea9c1d280ce2f76ced": {
          "model_module": "@jupyter-widgets/controls",
          "model_name": "SliderStyleModel",
          "model_module_version": "1.5.0",
          "state": {
            "_model_module": "@jupyter-widgets/controls",
            "_model_module_version": "1.5.0",
            "_model_name": "SliderStyleModel",
            "_view_count": null,
            "_view_module": "@jupyter-widgets/base",
            "_view_module_version": "1.2.0",
            "_view_name": "StyleView",
            "description_width": "initial",
            "handle_color": null
          }
        },
        "08b54045a86442d4aad8f58a9e22f135": {
          "model_module": "@jupyter-widgets/controls",
          "model_name": "IntSliderModel",
          "model_module_version": "1.5.0",
          "state": {
            "_dom_classes": [],
            "_model_module": "@jupyter-widgets/controls",
            "_model_module_version": "1.5.0",
            "_model_name": "IntSliderModel",
            "_view_count": null,
            "_view_module": "@jupyter-widgets/controls",
            "_view_module_version": "1.5.0",
            "_view_name": "IntSliderView",
            "continuous_update": true,
            "description": "SVR",
            "description_tooltip": null,
            "disabled": false,
            "layout": "IPY_MODEL_c2ed42e63d6b45eda525d8b922ffe295",
            "max": 5,
            "min": 0,
            "orientation": "horizontal",
            "readout": true,
            "readout_format": "d",
            "step": 1,
            "style": "IPY_MODEL_5ccb38c1d4224358a8fbeac4985a03e0",
            "value": 0
          }
        },
        "c2ed42e63d6b45eda525d8b922ffe295": {
          "model_module": "@jupyter-widgets/base",
          "model_name": "LayoutModel",
          "model_module_version": "1.2.0",
          "state": {
            "_model_module": "@jupyter-widgets/base",
            "_model_module_version": "1.2.0",
            "_model_name": "LayoutModel",
            "_view_count": null,
            "_view_module": "@jupyter-widgets/base",
            "_view_module_version": "1.2.0",
            "_view_name": "LayoutView",
            "align_content": null,
            "align_items": null,
            "align_self": null,
            "border": null,
            "bottom": null,
            "display": null,
            "flex": null,
            "flex_flow": null,
            "grid_area": null,
            "grid_auto_columns": null,
            "grid_auto_flow": null,
            "grid_auto_rows": null,
            "grid_column": null,
            "grid_gap": null,
            "grid_row": null,
            "grid_template_areas": null,
            "grid_template_columns": null,
            "grid_template_rows": null,
            "height": null,
            "justify_content": null,
            "justify_items": null,
            "left": null,
            "margin": null,
            "max_height": null,
            "max_width": null,
            "min_height": null,
            "min_width": null,
            "object_fit": null,
            "object_position": null,
            "order": null,
            "overflow": null,
            "overflow_x": null,
            "overflow_y": null,
            "padding": null,
            "right": null,
            "top": null,
            "visibility": null,
            "width": null
          }
        },
        "5ccb38c1d4224358a8fbeac4985a03e0": {
          "model_module": "@jupyter-widgets/controls",
          "model_name": "SliderStyleModel",
          "model_module_version": "1.5.0",
          "state": {
            "_model_module": "@jupyter-widgets/controls",
            "_model_module_version": "1.5.0",
            "_model_name": "SliderStyleModel",
            "_view_count": null,
            "_view_module": "@jupyter-widgets/base",
            "_view_module_version": "1.2.0",
            "_view_name": "StyleView",
            "description_width": "initial",
            "handle_color": null
          }
        },
        "762cdcc2e2444ecf954125189f39c6f7": {
          "model_module": "@jupyter-widgets/controls",
          "model_name": "IntSliderModel",
          "model_module_version": "1.5.0",
          "state": {
            "_dom_classes": [],
            "_model_module": "@jupyter-widgets/controls",
            "_model_module_version": "1.5.0",
            "_model_name": "IntSliderModel",
            "_view_count": null,
            "_view_module": "@jupyter-widgets/controls",
            "_view_module_version": "1.5.0",
            "_view_name": "IntSliderView",
            "continuous_update": true,
            "description": "Decision Tree",
            "description_tooltip": null,
            "disabled": false,
            "layout": "IPY_MODEL_86f65e8d349d4bffabeac926b336b63a",
            "max": 5,
            "min": 0,
            "orientation": "horizontal",
            "readout": true,
            "readout_format": "d",
            "step": 1,
            "style": "IPY_MODEL_bffd1dff36a44c02a21d7e3047321f37",
            "value": 0
          }
        },
        "86f65e8d349d4bffabeac926b336b63a": {
          "model_module": "@jupyter-widgets/base",
          "model_name": "LayoutModel",
          "model_module_version": "1.2.0",
          "state": {
            "_model_module": "@jupyter-widgets/base",
            "_model_module_version": "1.2.0",
            "_model_name": "LayoutModel",
            "_view_count": null,
            "_view_module": "@jupyter-widgets/base",
            "_view_module_version": "1.2.0",
            "_view_name": "LayoutView",
            "align_content": null,
            "align_items": null,
            "align_self": null,
            "border": null,
            "bottom": null,
            "display": null,
            "flex": null,
            "flex_flow": null,
            "grid_area": null,
            "grid_auto_columns": null,
            "grid_auto_flow": null,
            "grid_auto_rows": null,
            "grid_column": null,
            "grid_gap": null,
            "grid_row": null,
            "grid_template_areas": null,
            "grid_template_columns": null,
            "grid_template_rows": null,
            "height": null,
            "justify_content": null,
            "justify_items": null,
            "left": null,
            "margin": null,
            "max_height": null,
            "max_width": null,
            "min_height": null,
            "min_width": null,
            "object_fit": null,
            "object_position": null,
            "order": null,
            "overflow": null,
            "overflow_x": null,
            "overflow_y": null,
            "padding": null,
            "right": null,
            "top": null,
            "visibility": null,
            "width": null
          }
        },
        "bffd1dff36a44c02a21d7e3047321f37": {
          "model_module": "@jupyter-widgets/controls",
          "model_name": "SliderStyleModel",
          "model_module_version": "1.5.0",
          "state": {
            "_model_module": "@jupyter-widgets/controls",
            "_model_module_version": "1.5.0",
            "_model_name": "SliderStyleModel",
            "_view_count": null,
            "_view_module": "@jupyter-widgets/base",
            "_view_module_version": "1.2.0",
            "_view_name": "StyleView",
            "description_width": "initial",
            "handle_color": null
          }
        },
        "9c317d3f456b41be8f90fe5d806572b6": {
          "model_module": "@jupyter-widgets/controls",
          "model_name": "IntSliderModel",
          "model_module_version": "1.5.0",
          "state": {
            "_dom_classes": [],
            "_model_module": "@jupyter-widgets/controls",
            "_model_module_version": "1.5.0",
            "_model_name": "IntSliderModel",
            "_view_count": null,
            "_view_module": "@jupyter-widgets/controls",
            "_view_module_version": "1.5.0",
            "_view_name": "IntSliderView",
            "continuous_update": true,
            "description": "Random Forest",
            "description_tooltip": null,
            "disabled": false,
            "layout": "IPY_MODEL_538e7487fe2245be81da0817a2d178b0",
            "max": 5,
            "min": 0,
            "orientation": "horizontal",
            "readout": true,
            "readout_format": "d",
            "step": 1,
            "style": "IPY_MODEL_d30bb7b5bce24ed6b975eee181e8c4df",
            "value": 0
          }
        },
        "538e7487fe2245be81da0817a2d178b0": {
          "model_module": "@jupyter-widgets/base",
          "model_name": "LayoutModel",
          "model_module_version": "1.2.0",
          "state": {
            "_model_module": "@jupyter-widgets/base",
            "_model_module_version": "1.2.0",
            "_model_name": "LayoutModel",
            "_view_count": null,
            "_view_module": "@jupyter-widgets/base",
            "_view_module_version": "1.2.0",
            "_view_name": "LayoutView",
            "align_content": null,
            "align_items": null,
            "align_self": null,
            "border": null,
            "bottom": null,
            "display": null,
            "flex": null,
            "flex_flow": null,
            "grid_area": null,
            "grid_auto_columns": null,
            "grid_auto_flow": null,
            "grid_auto_rows": null,
            "grid_column": null,
            "grid_gap": null,
            "grid_row": null,
            "grid_template_areas": null,
            "grid_template_columns": null,
            "grid_template_rows": null,
            "height": null,
            "justify_content": null,
            "justify_items": null,
            "left": null,
            "margin": null,
            "max_height": null,
            "max_width": null,
            "min_height": null,
            "min_width": null,
            "object_fit": null,
            "object_position": null,
            "order": null,
            "overflow": null,
            "overflow_x": null,
            "overflow_y": null,
            "padding": null,
            "right": null,
            "top": null,
            "visibility": null,
            "width": null
          }
        },
        "d30bb7b5bce24ed6b975eee181e8c4df": {
          "model_module": "@jupyter-widgets/controls",
          "model_name": "SliderStyleModel",
          "model_module_version": "1.5.0",
          "state": {
            "_model_module": "@jupyter-widgets/controls",
            "_model_module_version": "1.5.0",
            "_model_name": "SliderStyleModel",
            "_view_count": null,
            "_view_module": "@jupyter-widgets/base",
            "_view_module_version": "1.2.0",
            "_view_name": "StyleView",
            "description_width": "initial",
            "handle_color": null
          }
        },
        "2f8ee2cbe4b7442693b5f542d64927b1": {
          "model_module": "@jupyter-widgets/controls",
          "model_name": "IntSliderModel",
          "model_module_version": "1.5.0",
          "state": {
            "_dom_classes": [],
            "_model_module": "@jupyter-widgets/controls",
            "_model_module_version": "1.5.0",
            "_model_name": "IntSliderModel",
            "_view_count": null,
            "_view_module": "@jupyter-widgets/controls",
            "_view_module_version": "1.5.0",
            "_view_name": "IntSliderView",
            "continuous_update": true,
            "description": "Gradient Boosting",
            "description_tooltip": null,
            "disabled": false,
            "layout": "IPY_MODEL_98dc6d57c598424c955372f7ce9b36d5",
            "max": 5,
            "min": 0,
            "orientation": "horizontal",
            "readout": true,
            "readout_format": "d",
            "step": 1,
            "style": "IPY_MODEL_6f676f98d40a454e96588ebbf44e10c6",
            "value": 1
          }
        },
        "98dc6d57c598424c955372f7ce9b36d5": {
          "model_module": "@jupyter-widgets/base",
          "model_name": "LayoutModel",
          "model_module_version": "1.2.0",
          "state": {
            "_model_module": "@jupyter-widgets/base",
            "_model_module_version": "1.2.0",
            "_model_name": "LayoutModel",
            "_view_count": null,
            "_view_module": "@jupyter-widgets/base",
            "_view_module_version": "1.2.0",
            "_view_name": "LayoutView",
            "align_content": null,
            "align_items": null,
            "align_self": null,
            "border": null,
            "bottom": null,
            "display": null,
            "flex": null,
            "flex_flow": null,
            "grid_area": null,
            "grid_auto_columns": null,
            "grid_auto_flow": null,
            "grid_auto_rows": null,
            "grid_column": null,
            "grid_gap": null,
            "grid_row": null,
            "grid_template_areas": null,
            "grid_template_columns": null,
            "grid_template_rows": null,
            "height": null,
            "justify_content": null,
            "justify_items": null,
            "left": null,
            "margin": null,
            "max_height": null,
            "max_width": null,
            "min_height": null,
            "min_width": null,
            "object_fit": null,
            "object_position": null,
            "order": null,
            "overflow": null,
            "overflow_x": null,
            "overflow_y": null,
            "padding": null,
            "right": null,
            "top": null,
            "visibility": null,
            "width": null
          }
        },
        "6f676f98d40a454e96588ebbf44e10c6": {
          "model_module": "@jupyter-widgets/controls",
          "model_name": "SliderStyleModel",
          "model_module_version": "1.5.0",
          "state": {
            "_model_module": "@jupyter-widgets/controls",
            "_model_module_version": "1.5.0",
            "_model_name": "SliderStyleModel",
            "_view_count": null,
            "_view_module": "@jupyter-widgets/base",
            "_view_module_version": "1.2.0",
            "_view_name": "StyleView",
            "description_width": "initial",
            "handle_color": null
          }
        },
        "2cff5d97a16349e9a18ed2d5ed4eeaa0": {
          "model_module": "@jupyter-widgets/controls",
          "model_name": "IntSliderModel",
          "model_module_version": "1.5.0",
          "state": {
            "_dom_classes": [],
            "_model_module": "@jupyter-widgets/controls",
            "_model_module_version": "1.5.0",
            "_model_name": "IntSliderModel",
            "_view_count": null,
            "_view_module": "@jupyter-widgets/controls",
            "_view_module_version": "1.5.0",
            "_view_name": "IntSliderView",
            "continuous_update": true,
            "description": "AdaBoost",
            "description_tooltip": null,
            "disabled": false,
            "layout": "IPY_MODEL_93697169683244e8b0162ce776b2013a",
            "max": 5,
            "min": 0,
            "orientation": "horizontal",
            "readout": true,
            "readout_format": "d",
            "step": 1,
            "style": "IPY_MODEL_380c67fbb1ea461f86ef256eda7d88a2",
            "value": 1
          }
        },
        "93697169683244e8b0162ce776b2013a": {
          "model_module": "@jupyter-widgets/base",
          "model_name": "LayoutModel",
          "model_module_version": "1.2.0",
          "state": {
            "_model_module": "@jupyter-widgets/base",
            "_model_module_version": "1.2.0",
            "_model_name": "LayoutModel",
            "_view_count": null,
            "_view_module": "@jupyter-widgets/base",
            "_view_module_version": "1.2.0",
            "_view_name": "LayoutView",
            "align_content": null,
            "align_items": null,
            "align_self": null,
            "border": null,
            "bottom": null,
            "display": null,
            "flex": null,
            "flex_flow": null,
            "grid_area": null,
            "grid_auto_columns": null,
            "grid_auto_flow": null,
            "grid_auto_rows": null,
            "grid_column": null,
            "grid_gap": null,
            "grid_row": null,
            "grid_template_areas": null,
            "grid_template_columns": null,
            "grid_template_rows": null,
            "height": null,
            "justify_content": null,
            "justify_items": null,
            "left": null,
            "margin": null,
            "max_height": null,
            "max_width": null,
            "min_height": null,
            "min_width": null,
            "object_fit": null,
            "object_position": null,
            "order": null,
            "overflow": null,
            "overflow_x": null,
            "overflow_y": null,
            "padding": null,
            "right": null,
            "top": null,
            "visibility": null,
            "width": null
          }
        },
        "380c67fbb1ea461f86ef256eda7d88a2": {
          "model_module": "@jupyter-widgets/controls",
          "model_name": "SliderStyleModel",
          "model_module_version": "1.5.0",
          "state": {
            "_model_module": "@jupyter-widgets/controls",
            "_model_module_version": "1.5.0",
            "_model_name": "SliderStyleModel",
            "_view_count": null,
            "_view_module": "@jupyter-widgets/base",
            "_view_module_version": "1.2.0",
            "_view_name": "StyleView",
            "description_width": "initial",
            "handle_color": null
          }
        },
        "7429aa778c0c449bb01d81e5f0c18cd5": {
          "model_module": "@jupyter-widgets/controls",
          "model_name": "IntSliderModel",
          "model_module_version": "1.5.0",
          "state": {
            "_dom_classes": [],
            "_model_module": "@jupyter-widgets/controls",
            "_model_module_version": "1.5.0",
            "_model_name": "IntSliderModel",
            "_view_count": null,
            "_view_module": "@jupyter-widgets/controls",
            "_view_module_version": "1.5.0",
            "_view_name": "IntSliderView",
            "continuous_update": true,
            "description": "Bagging",
            "description_tooltip": null,
            "disabled": false,
            "layout": "IPY_MODEL_1065e981ce024fcbb5393410f0f4f936",
            "max": 5,
            "min": 0,
            "orientation": "horizontal",
            "readout": true,
            "readout_format": "d",
            "step": 1,
            "style": "IPY_MODEL_76ed3a5e9c314f78aa6a3214b18749df",
            "value": 0
          }
        },
        "1065e981ce024fcbb5393410f0f4f936": {
          "model_module": "@jupyter-widgets/base",
          "model_name": "LayoutModel",
          "model_module_version": "1.2.0",
          "state": {
            "_model_module": "@jupyter-widgets/base",
            "_model_module_version": "1.2.0",
            "_model_name": "LayoutModel",
            "_view_count": null,
            "_view_module": "@jupyter-widgets/base",
            "_view_module_version": "1.2.0",
            "_view_name": "LayoutView",
            "align_content": null,
            "align_items": null,
            "align_self": null,
            "border": null,
            "bottom": null,
            "display": null,
            "flex": null,
            "flex_flow": null,
            "grid_area": null,
            "grid_auto_columns": null,
            "grid_auto_flow": null,
            "grid_auto_rows": null,
            "grid_column": null,
            "grid_gap": null,
            "grid_row": null,
            "grid_template_areas": null,
            "grid_template_columns": null,
            "grid_template_rows": null,
            "height": null,
            "justify_content": null,
            "justify_items": null,
            "left": null,
            "margin": null,
            "max_height": null,
            "max_width": null,
            "min_height": null,
            "min_width": null,
            "object_fit": null,
            "object_position": null,
            "order": null,
            "overflow": null,
            "overflow_x": null,
            "overflow_y": null,
            "padding": null,
            "right": null,
            "top": null,
            "visibility": null,
            "width": null
          }
        },
        "76ed3a5e9c314f78aa6a3214b18749df": {
          "model_module": "@jupyter-widgets/controls",
          "model_name": "SliderStyleModel",
          "model_module_version": "1.5.0",
          "state": {
            "_model_module": "@jupyter-widgets/controls",
            "_model_module_version": "1.5.0",
            "_model_name": "SliderStyleModel",
            "_view_count": null,
            "_view_module": "@jupyter-widgets/base",
            "_view_module_version": "1.2.0",
            "_view_name": "StyleView",
            "description_width": "initial",
            "handle_color": null
          }
        },
        "992fa55f4b964676ab65069b70d56590": {
          "model_module": "@jupyter-widgets/controls",
          "model_name": "IntSliderModel",
          "model_module_version": "1.5.0",
          "state": {
            "_dom_classes": [],
            "_model_module": "@jupyter-widgets/controls",
            "_model_module_version": "1.5.0",
            "_model_name": "IntSliderModel",
            "_view_count": null,
            "_view_module": "@jupyter-widgets/controls",
            "_view_module_version": "1.5.0",
            "_view_name": "IntSliderView",
            "continuous_update": true,
            "description": "Extra Trees",
            "description_tooltip": null,
            "disabled": false,
            "layout": "IPY_MODEL_bdf68524f2fb4e14a0afcfdfe88a598a",
            "max": 5,
            "min": 0,
            "orientation": "horizontal",
            "readout": true,
            "readout_format": "d",
            "step": 1,
            "style": "IPY_MODEL_fed229309bdb42eaae7eba912df2c1c0",
            "value": 0
          }
        },
        "bdf68524f2fb4e14a0afcfdfe88a598a": {
          "model_module": "@jupyter-widgets/base",
          "model_name": "LayoutModel",
          "model_module_version": "1.2.0",
          "state": {
            "_model_module": "@jupyter-widgets/base",
            "_model_module_version": "1.2.0",
            "_model_name": "LayoutModel",
            "_view_count": null,
            "_view_module": "@jupyter-widgets/base",
            "_view_module_version": "1.2.0",
            "_view_name": "LayoutView",
            "align_content": null,
            "align_items": null,
            "align_self": null,
            "border": null,
            "bottom": null,
            "display": null,
            "flex": null,
            "flex_flow": null,
            "grid_area": null,
            "grid_auto_columns": null,
            "grid_auto_flow": null,
            "grid_auto_rows": null,
            "grid_column": null,
            "grid_gap": null,
            "grid_row": null,
            "grid_template_areas": null,
            "grid_template_columns": null,
            "grid_template_rows": null,
            "height": null,
            "justify_content": null,
            "justify_items": null,
            "left": null,
            "margin": null,
            "max_height": null,
            "max_width": null,
            "min_height": null,
            "min_width": null,
            "object_fit": null,
            "object_position": null,
            "order": null,
            "overflow": null,
            "overflow_x": null,
            "overflow_y": null,
            "padding": null,
            "right": null,
            "top": null,
            "visibility": null,
            "width": null
          }
        },
        "fed229309bdb42eaae7eba912df2c1c0": {
          "model_module": "@jupyter-widgets/controls",
          "model_name": "SliderStyleModel",
          "model_module_version": "1.5.0",
          "state": {
            "_model_module": "@jupyter-widgets/controls",
            "_model_module_version": "1.5.0",
            "_model_name": "SliderStyleModel",
            "_view_count": null,
            "_view_module": "@jupyter-widgets/base",
            "_view_module_version": "1.2.0",
            "_view_name": "StyleView",
            "description_width": "initial",
            "handle_color": null
          }
        },
        "6643afb0326046f58fb39d81e2761b17": {
          "model_module": "@jupyter-widgets/controls",
          "model_name": "IntSliderModel",
          "model_module_version": "1.5.0",
          "state": {
            "_dom_classes": [],
            "_model_module": "@jupyter-widgets/controls",
            "_model_module_version": "1.5.0",
            "_model_name": "IntSliderModel",
            "_view_count": null,
            "_view_module": "@jupyter-widgets/controls",
            "_view_module_version": "1.5.0",
            "_view_name": "IntSliderView",
            "continuous_update": true,
            "description": "KNN",
            "description_tooltip": null,
            "disabled": false,
            "layout": "IPY_MODEL_eb1e51d84f9d48b7bd1df38f7dd07e93",
            "max": 5,
            "min": 0,
            "orientation": "horizontal",
            "readout": true,
            "readout_format": "d",
            "step": 1,
            "style": "IPY_MODEL_d4219f9f4b814208a0651728607a71f0",
            "value": 0
          }
        },
        "eb1e51d84f9d48b7bd1df38f7dd07e93": {
          "model_module": "@jupyter-widgets/base",
          "model_name": "LayoutModel",
          "model_module_version": "1.2.0",
          "state": {
            "_model_module": "@jupyter-widgets/base",
            "_model_module_version": "1.2.0",
            "_model_name": "LayoutModel",
            "_view_count": null,
            "_view_module": "@jupyter-widgets/base",
            "_view_module_version": "1.2.0",
            "_view_name": "LayoutView",
            "align_content": null,
            "align_items": null,
            "align_self": null,
            "border": null,
            "bottom": null,
            "display": null,
            "flex": null,
            "flex_flow": null,
            "grid_area": null,
            "grid_auto_columns": null,
            "grid_auto_flow": null,
            "grid_auto_rows": null,
            "grid_column": null,
            "grid_gap": null,
            "grid_row": null,
            "grid_template_areas": null,
            "grid_template_columns": null,
            "grid_template_rows": null,
            "height": null,
            "justify_content": null,
            "justify_items": null,
            "left": null,
            "margin": null,
            "max_height": null,
            "max_width": null,
            "min_height": null,
            "min_width": null,
            "object_fit": null,
            "object_position": null,
            "order": null,
            "overflow": null,
            "overflow_x": null,
            "overflow_y": null,
            "padding": null,
            "right": null,
            "top": null,
            "visibility": null,
            "width": null
          }
        },
        "d4219f9f4b814208a0651728607a71f0": {
          "model_module": "@jupyter-widgets/controls",
          "model_name": "SliderStyleModel",
          "model_module_version": "1.5.0",
          "state": {
            "_model_module": "@jupyter-widgets/controls",
            "_model_module_version": "1.5.0",
            "_model_name": "SliderStyleModel",
            "_view_count": null,
            "_view_module": "@jupyter-widgets/base",
            "_view_module_version": "1.2.0",
            "_view_name": "StyleView",
            "description_width": "initial",
            "handle_color": null
          }
        },
        "061df62ac6a344199a1a906653574686": {
          "model_module": "@jupyter-widgets/controls",
          "model_name": "IntSliderModel",
          "model_module_version": "1.5.0",
          "state": {
            "_dom_classes": [],
            "_model_module": "@jupyter-widgets/controls",
            "_model_module_version": "1.5.0",
            "_model_name": "IntSliderModel",
            "_view_count": null,
            "_view_module": "@jupyter-widgets/controls",
            "_view_module_version": "1.5.0",
            "_view_name": "IntSliderView",
            "continuous_update": true,
            "description": "MLP",
            "description_tooltip": null,
            "disabled": false,
            "layout": "IPY_MODEL_f8ef16771e74435d85a28c54b4156a35",
            "max": 5,
            "min": 0,
            "orientation": "horizontal",
            "readout": true,
            "readout_format": "d",
            "step": 1,
            "style": "IPY_MODEL_c1108f9cf1f145359bab08afe4964891",
            "value": 0
          }
        },
        "f8ef16771e74435d85a28c54b4156a35": {
          "model_module": "@jupyter-widgets/base",
          "model_name": "LayoutModel",
          "model_module_version": "1.2.0",
          "state": {
            "_model_module": "@jupyter-widgets/base",
            "_model_module_version": "1.2.0",
            "_model_name": "LayoutModel",
            "_view_count": null,
            "_view_module": "@jupyter-widgets/base",
            "_view_module_version": "1.2.0",
            "_view_name": "LayoutView",
            "align_content": null,
            "align_items": null,
            "align_self": null,
            "border": null,
            "bottom": null,
            "display": null,
            "flex": null,
            "flex_flow": null,
            "grid_area": null,
            "grid_auto_columns": null,
            "grid_auto_flow": null,
            "grid_auto_rows": null,
            "grid_column": null,
            "grid_gap": null,
            "grid_row": null,
            "grid_template_areas": null,
            "grid_template_columns": null,
            "grid_template_rows": null,
            "height": null,
            "justify_content": null,
            "justify_items": null,
            "left": null,
            "margin": null,
            "max_height": null,
            "max_width": null,
            "min_height": null,
            "min_width": null,
            "object_fit": null,
            "object_position": null,
            "order": null,
            "overflow": null,
            "overflow_x": null,
            "overflow_y": null,
            "padding": null,
            "right": null,
            "top": null,
            "visibility": null,
            "width": null
          }
        },
        "c1108f9cf1f145359bab08afe4964891": {
          "model_module": "@jupyter-widgets/controls",
          "model_name": "SliderStyleModel",
          "model_module_version": "1.5.0",
          "state": {
            "_model_module": "@jupyter-widgets/controls",
            "_model_module_version": "1.5.0",
            "_model_name": "SliderStyleModel",
            "_view_count": null,
            "_view_module": "@jupyter-widgets/base",
            "_view_module_version": "1.2.0",
            "_view_name": "StyleView",
            "description_width": "initial",
            "handle_color": null
          }
        },
        "47df0ebf157a41c29b14a1ed5d2da10d": {
          "model_module": "@jupyter-widgets/controls",
          "model_name": "DropdownModel",
          "model_module_version": "1.5.0",
          "state": {
            "_dom_classes": [],
            "_model_module": "@jupyter-widgets/controls",
            "_model_module_version": "1.5.0",
            "_model_name": "DropdownModel",
            "_options_labels": [
              "hard",
              "soft"
            ],
            "_view_count": null,
            "_view_module": "@jupyter-widgets/controls",
            "_view_module_version": "1.5.0",
            "_view_name": "DropdownView",
            "description": "Voting Type:",
            "description_tooltip": null,
            "disabled": false,
            "index": 0,
            "layout": "IPY_MODEL_b89cc351c3904c8a9df067b3a7500bf3",
            "style": "IPY_MODEL_f6ee00881424422aa9910ed6d0cad393"
          }
        },
        "b89cc351c3904c8a9df067b3a7500bf3": {
          "model_module": "@jupyter-widgets/base",
          "model_name": "LayoutModel",
          "model_module_version": "1.2.0",
          "state": {
            "_model_module": "@jupyter-widgets/base",
            "_model_module_version": "1.2.0",
            "_model_name": "LayoutModel",
            "_view_count": null,
            "_view_module": "@jupyter-widgets/base",
            "_view_module_version": "1.2.0",
            "_view_name": "LayoutView",
            "align_content": null,
            "align_items": null,
            "align_self": null,
            "border": null,
            "bottom": null,
            "display": null,
            "flex": null,
            "flex_flow": null,
            "grid_area": null,
            "grid_auto_columns": null,
            "grid_auto_flow": null,
            "grid_auto_rows": null,
            "grid_column": null,
            "grid_gap": null,
            "grid_row": null,
            "grid_template_areas": null,
            "grid_template_columns": null,
            "grid_template_rows": null,
            "height": null,
            "justify_content": null,
            "justify_items": null,
            "left": null,
            "margin": null,
            "max_height": null,
            "max_width": null,
            "min_height": null,
            "min_width": null,
            "object_fit": null,
            "object_position": null,
            "order": null,
            "overflow": null,
            "overflow_x": null,
            "overflow_y": null,
            "padding": null,
            "right": null,
            "top": null,
            "visibility": null,
            "width": null
          }
        },
        "f6ee00881424422aa9910ed6d0cad393": {
          "model_module": "@jupyter-widgets/controls",
          "model_name": "DescriptionStyleModel",
          "model_module_version": "1.5.0",
          "state": {
            "_model_module": "@jupyter-widgets/controls",
            "_model_module_version": "1.5.0",
            "_model_name": "DescriptionStyleModel",
            "_view_count": null,
            "_view_module": "@jupyter-widgets/base",
            "_view_module_version": "1.2.0",
            "_view_name": "StyleView",
            "description_width": "initial"
          }
        },
        "29f0d14d0c674404a2396b6b128f9f7b": {
          "model_module": "@jupyter-widgets/controls",
          "model_name": "ButtonModel",
          "model_module_version": "1.5.0",
          "state": {
            "_dom_classes": [],
            "_model_module": "@jupyter-widgets/controls",
            "_model_module_version": "1.5.0",
            "_model_name": "ButtonModel",
            "_view_count": null,
            "_view_module": "@jupyter-widgets/controls",
            "_view_module_version": "1.5.0",
            "_view_name": "ButtonView",
            "button_style": "",
            "description": "Train Ensemble",
            "disabled": false,
            "icon": "",
            "layout": "IPY_MODEL_c4bbd7d9251d44b3a8ed3b024c093fa0",
            "style": "IPY_MODEL_e2516186c6844eefb62bccce4516e98d",
            "tooltip": ""
          }
        },
        "c4bbd7d9251d44b3a8ed3b024c093fa0": {
          "model_module": "@jupyter-widgets/base",
          "model_name": "LayoutModel",
          "model_module_version": "1.2.0",
          "state": {
            "_model_module": "@jupyter-widgets/base",
            "_model_module_version": "1.2.0",
            "_model_name": "LayoutModel",
            "_view_count": null,
            "_view_module": "@jupyter-widgets/base",
            "_view_module_version": "1.2.0",
            "_view_name": "LayoutView",
            "align_content": null,
            "align_items": null,
            "align_self": null,
            "border": null,
            "bottom": null,
            "display": null,
            "flex": null,
            "flex_flow": null,
            "grid_area": null,
            "grid_auto_columns": null,
            "grid_auto_flow": null,
            "grid_auto_rows": null,
            "grid_column": null,
            "grid_gap": null,
            "grid_row": null,
            "grid_template_areas": null,
            "grid_template_columns": null,
            "grid_template_rows": null,
            "height": null,
            "justify_content": null,
            "justify_items": null,
            "left": null,
            "margin": null,
            "max_height": null,
            "max_width": null,
            "min_height": null,
            "min_width": null,
            "object_fit": null,
            "object_position": null,
            "order": null,
            "overflow": null,
            "overflow_x": null,
            "overflow_y": null,
            "padding": null,
            "right": null,
            "top": null,
            "visibility": null,
            "width": null
          }
        },
        "e2516186c6844eefb62bccce4516e98d": {
          "model_module": "@jupyter-widgets/controls",
          "model_name": "ButtonStyleModel",
          "model_module_version": "1.5.0",
          "state": {
            "_model_module": "@jupyter-widgets/controls",
            "_model_module_version": "1.5.0",
            "_model_name": "ButtonStyleModel",
            "_view_count": null,
            "_view_module": "@jupyter-widgets/base",
            "_view_module_version": "1.2.0",
            "_view_name": "StyleView",
            "button_color": null,
            "font_weight": ""
          }
        },
        "8014eb0f31e3411ab68dca40cefa93f2": {
          "model_module": "@jupyter-widgets/output",
          "model_name": "OutputModel",
          "model_module_version": "1.0.0",
          "state": {
            "_dom_classes": [],
            "_model_module": "@jupyter-widgets/output",
            "_model_module_version": "1.0.0",
            "_model_name": "OutputModel",
            "_view_count": null,
            "_view_module": "@jupyter-widgets/output",
            "_view_module_version": "1.0.0",
            "_view_name": "OutputView",
            "layout": "IPY_MODEL_c8db0119eebf4ceea7b18cb44ec4fbe0",
            "msg_id": "",
            "outputs": [
              {
                "output_type": "stream",
                "name": "stdout",
                "text": [
                  "Train MSE: 2625.622631844675\n",
                  "Test MSE: 4092.8115479750277\n",
                  "Train R² Score: 0.5678981814170172\n",
                  "Test R² Score: 0.22750201537338943\n"
                ]
              },
              {
                "output_type": "display_data",
                "data": {
                  "text/plain": "<Figure size 800x600 with 1 Axes>",
                  "image/png": "iVBORw0KGgoAAAANSUhEUgAAArcAAAIjCAYAAAAZajMiAAAAOnRFWHRTb2Z0d2FyZQBNYXRwbG90bGliIHZlcnNpb24zLjEwLjAsIGh0dHBzOi8vbWF0cGxvdGxpYi5vcmcvlHJYcgAAAAlwSFlzAAAPYQAAD2EBqD+naQAAarRJREFUeJzt3Xl8VPW9//H3TNYhk8wYYCAkQIBEBSFYQClVEYUKiAtC61KsIAhqQVyu/iy3boiK1WqrrUq9KtpbLYqCC1y9pciiFVFEMLhQAkRICIQtk0zIPuf3R26mDkkgk8w+r+fjkceDmXNy8p0c5uQ93/P9fr4mwzAMAQAAAFHAHOoGAAAAAP5CuAUAAEDUINwCAAAgahBuAQAAEDUItwAAAIgahFsAAABEDcItAAAAogbhFgAAAFGDcAsAAICoQbgFgAAymUx64IEHQt2MkBs1apRGjRrleVxYWCiTyaSXX345ZG063vFtBBCZCLcAIsazzz4rk8mk4cOHt/sY+/bt0wMPPKAtW7b4r2Fhbu3atTKZTJ6vhIQE9e3bV9ddd5127doV6ub55JNPPtEDDzygsrKyUDcFQJiKD3UDAKCtXn31VWVnZ+uzzz5TQUGBcnJyfD7Gvn37NH/+fGVnZ+vMM8/0fyPD2Ny5c3XWWWeprq5Omzdv1vPPP6+VK1cqPz9fPXr0CGpbevfuraqqKiUkJPj0fZ988onmz5+vadOmyW63B6ZxACIaPbcAIsLu3bv1ySef6Mknn1TXrl316quvhrpJEee8887Ttddeq+uvv15//OMf9bvf/U5HjhzRK6+80ur3VFZWBqQtJpNJycnJiouLC8jxAcQuwi2AiPDqq6/qlFNO0YQJE/Szn/2s1XBbVlam22+/XdnZ2UpKSlJWVpauu+46HTp0SGvXrtVZZ50lSbr++us9t+mbxn1mZ2dr2rRpzY55/FjM2tpa3XfffRo6dKhsNptSUlJ03nnnac2aNT6/rgMHDig+Pl7z589vtm379u0ymUz605/+JEmqq6vT/PnzlZubq+TkZHXu3FnnnnuuVq1a5fPPlaQLL7xQUuMHB0l64IEHZDKZ9M033+gXv/iFTjnlFJ177rme/f/6179q6NChslgsSk9P19VXX629e/c2O+7zzz+vfv36yWKx6Oyzz9ZHH33UbJ/Wxtx+9913uvLKK9W1a1dZLBaddtpp+s1vfuNp31133SVJ6tOnj+f8FRYWBqSNACITwxIARIRXX31VkyZNUmJioq655ho999xz+vzzzz1hVZJcLpfOO+88ffvtt5o+fbqGDBmiQ4cO6d1331VRUZH69++vBx98UPfdd59mzZql8847T5L0k5/8xKe2lJeX64UXXtA111yjmTNnqqKiQi+++KLGjh2rzz77zKfhDt26ddP555+vN954Q/fff7/Xttdff11xcXH6+c9/Lqkx3C1cuFA33HCDzj77bJWXl2vTpk3avHmzfvrTn/r0GiRp586dkqTOnTt7Pf/zn/9cubm5euSRR2QYhiTp4Ycf1r333qsrr7xSN9xwgw4ePKg//vGPGjlypL788kvPEIEXX3xRN954o37yk5/otttu065du3TZZZcpPT1dPXv2PGF7vvrqK5133nlKSEjQrFmzlJ2drZ07d+q9997Tww8/rEmTJulf//qX/va3v+n3v/+9unTpIknq2rVr0NoIIAIYABDmNm3aZEgyVq1aZRiGYbjdbiMrK8u49dZbvfa77777DEnGsmXLmh3D7XYbhmEYn3/+uSHJWLx4cbN9evfubUydOrXZ8+eff75x/vnnex7X19cbNTU1XvscPXrU6NatmzF9+nSv5yUZ999//wlf35///GdDkpGfn+/1/IABA4wLL7zQ83jw4MHGhAkTTnislqxZs8aQZLz00kvGwYMHjX379hkrV640srOzDZPJZHz++eeGYRjG/fffb0gyrrnmGq/vLywsNOLi4oyHH37Y6/n8/HwjPj7e83xtba3hcDiMM8880+v38/zzzxuSvH6Hu3fvbnYeRo4caaSmphrff/+9189pOneGYRiPP/64IcnYvXt3wNsIIDIxLAFA2Hv11VfVrVs3XXDBBZIax2teddVVWrJkiRoaGjz7vfXWWxo8eLCuuOKKZscwmUx+a09cXJwSExMlSW63W0eOHFF9fb2GDRumzZs3+3y8SZMmKT4+Xq+//rrnuW3btumbb77RVVdd5XnObrfr66+/1o4dO9rV7unTp6tr167q0aOHJkyYoMrKSr3yyisaNmyY13433XST1+Nly5bJ7Xbryiuv1KFDhzxf3bt3V25urmc4xqZNm1RaWqqbbrrJ8/uRpGnTpslms52wbQcPHtT69es1ffp09erVy2tbW85dMNoIIDIwLAFAWGtoaNCSJUt0wQUXeMaGStLw4cP1xBNPaPXq1broooskNd5mnzx5clDa9corr+iJJ57Qd999p7q6Os/zffr08flYXbp00ejRo/XGG29owYIFkhqHJMTHx2vSpEme/R588EFdfvnlOvXUUzVw4ECNGzdOv/zlL5WXl9emn3PffffpvPPOU1xcnLp06aL+/fsrPr75n4HjX8OOHTtkGIZyc3NbPG5TxYPvv/9ekprt11R67ESaSpINHDiwTa/leMFoI4DIQLgFENY+/PBDlZSUaMmSJVqyZEmz7a+++qon3HZUaz2EDQ0NXrP6//rXv2ratGmaOHGi7rrrLjkcDsXFxWnhwoWecay+uvrqq3X99ddry5YtOvPMM/XGG29o9OjRnnGlkjRy5Ejt3LlT77zzjv7+97/rhRde0O9//3stWrRIN9xww0l/xqBBgzRmzJiT7mexWLweu91umUwmvf/++y1WN7BarW14hYEVCW0EEByEWwBh7dVXX5XD4dAzzzzTbNuyZcu0fPlyLVq0SBaLRf369dO2bdtOeLwT3eI+5ZRTWlwc4Pvvv/fq1XvzzTfVt29fLVu2zOt4x08I88XEiRN14403eoYm/Otf/9K8efOa7Zeenq7rr79e119/vVwul0aOHKkHHnigTeG2vfr16yfDMNSnTx+deuqpre7Xu3dvSY29qE2VGKTGKg+7d+/W4MGDW/3ept9ve89fMNoIIDIw5hZA2KqqqtKyZct0ySWX6Gc/+1mzrzlz5qiiokLvvvuuJGny5MnaunWrli9f3uxYxv/N+k9JSZGkFkNsv3799Omnn6q2ttbz3IoVK5qVkmrqGWw6piRt3LhRGzZsaPdrtdvtGjt2rN544w0tWbJEiYmJmjhxotc+hw8f9npstVqVk5Ojmpqadv/ctpg0aZLi4uI0f/58r9csNf4Omto1bNgwde3aVYsWLfL6Hb788ssnXVGsa9euGjlypF566SXt2bOn2c9o0tr5C0YbAUQGem4BhK13331XFRUVuuyyy1rc/uMf/9izoMNVV12lu+66S2+++aZ+/vOfa/r06Ro6dKiOHDmid999V4sWLdLgwYPVr18/2e12LVq0SKmpqUpJSdHw4cPVp08f3XDDDXrzzTc1btw4XXnlldq5c6f++te/ql+/fl4/95JLLtGyZct0xRVXaMKECdq9e7cWLVqkAQMGyOVytfv1XnXVVbr22mv17LPPauzYsc1W4BowYIBGjRqloUOHKj09XZs2bdKbb76pOXPmtPtntkW/fv300EMPad68eSosLNTEiROVmpqq3bt3a/ny5Zo1a5buvPNOJSQk6KGHHtKNN96oCy+8UFdddZV2796txYsXt2k869NPP61zzz1XQ4YM0axZs9SnTx8VFhZq5cqVnuWShw4dKkn6zW9+o6uvvloJCQm69NJLg9ZGABEgRFUaAOCkLr30UiM5OdmorKxsdZ9p06YZCQkJxqFDhwzDMIzDhw8bc+bMMTIzM43ExEQjKyvLmDp1qme7YRjGO++8YwwYMMCIj49vVo7qiSeeMDIzM42kpCTjnHPOMTZt2tSsFJjb7TYeeeQRo3fv3kZSUpLxox/9yFixYoUxdepUo3fv3l7tUxtKgTUpLy83LBaLIcn461//2mz7Qw89ZJx99tmG3W43LBaLcfrppxsPP/ywUVtbe8LjNpUCW7p06Qn3ayoFdvDgwRa3v/XWW8a5555rpKSkGCkpKcbpp59uzJ4929i+fbvXfs8++6zRp08fIykpyRg2bJixfv36Zr/DlkqBGYZhbNu2zbjiiisMu91uJCcnG6eddppx7733eu2zYMECIzMz0zCbzc3KgvmzjQAik8kwjrt/AwAAAEQoxtwCAAAgahBuAQAAEDUItwAAAIgahFsAAABEDcItAAAAogbhFgAAAFGDRRzUuCb5vn37lJqaesKlOQEAABAahmGooqJCPXr0kNncev8s4VbSvn371LNnz1A3AwAAACexd+9eZWVltbqdcCspNTVVUuMvKy0tLcStAQAAwPHKy8vVs2dPT25rDeFW8gxFSEtLI9wCAACEsZMNIWVCGQAAAKIG4RYAAABRg3ALAACAqEG4BQAAQNQg3AIAACBqEG4BAAAQNQi3AAAAiBqEWwAAAEQNwi0AAACiBuEWAAAAUYNwCwAAgKhBuAUAAEDUINwCAAAgasSHugEAAAC+crsNFR6uVEV1vVKT45XdOUVmsynUzUIYINwCAICIsq3Yqbc2F6mg1KWaOreSEszKcVg1eUiWBmbaQt08hBjhFgAARIxtxU49vXqHjlTWKsNmkcUWp6raBuUXOVV8tEpzR+cScGMcY24BAEBEcLsNvbW5SEcqa5XjsMqaHK84s0nW5HjlOKw6UlmrZZuL5XYboW4qQohwCwAAIkLh4UoVlLqUYbPIZPIeX2symZRhs2hHaYUKD1eGqIUIB4RbAAAQESqq61VT55YlMa7F7ZbEONXUuVVRXR/kliGcEG4BAEBESE2OV1KCWVW1DS1ur6ptUFKCWanJTCmKZYRbAAAQEbI7pyjHYVWJs0qG4T2u1jAMlTirlOtIVXbnlBC1MLTcbkO7Drq0dW+Zdh10xezYYz7aAACAiGA2mzR5SJaKj1Z5xt5aEhurJZQ4q5SekqhJQzJjst4t5dH+jXALAAAixsBMm+aOzvUEuQPljUEuL8uuSUMyYy7ISZRHOx7hFgAARJSBmTYNyEhjhTI1L4/WVEXCmhyvnCSrCkpdWra5WAMy0mLm90O4BQAAEcdsNqlvV2uomxFyvpRHi5XfFxPKAAAAIhTl0Zoj3AIAAEQoyqM1R7gFAACIUJRHa45wCwAAEKGayqOlpySqoNQlV3W9GtyGXNX1Kih1xWR5NMItAABABGsqjzYoy6ayqloVHqpUWVWt8rLsMVcGTKJaAgAAQMSjPNq/EW4BAACiAOXRGjEsAQAAAFGDcAsAAICoQbgFAABA1AhpuF24cKHOOusspaamyuFwaOLEidq+fbvXPqNGjZLJZPL6uummm7z22bNnjyZMmKBOnTrJ4XDorrvuUn197KzEAQAAgEYhnVC2bt06zZ49W2eddZbq6+v1n//5n7rooov0zTffKCXl38WGZ86cqQcffNDzuFOnTp5/NzQ0aMKECerevbs++eQTlZSU6LrrrlNCQoIeeeSRoL4eAAAAhJbJOH45ixA6ePCgHA6H1q1bp5EjR0pq7Lk988wz9Yc//KHF73n//fd1ySWXaN++ferWrZskadGiRbr77rt18OBBJSYmNvuempoa1dTUeB6Xl5erZ8+ecjqdSktL8/8LAwAAQIeUl5fLZrOdNK+F1Zhbp9MpSUpPT/d6/tVXX1WXLl00cOBAzZs3T8eOHfNs27BhgwYNGuQJtpI0duxYlZeX6+uvv27x5yxcuFA2m83z1bNnzwC8GgAAAARb2NS5dbvduu2223TOOedo4MCBnud/8YtfqHfv3urRo4e++uor3X333dq+fbuWLVsmSdq/f79XsJXkebx///4Wf9a8efN0xx13eB439dwCAAAgsoVNuJ09e7a2bdumjz/+2Ov5WbNmef49aNAgZWRkaPTo0dq5c6f69evXrp+VlJSkpKSkDrUXAAAA4ScshiXMmTNHK1as0Jo1a5SVlXXCfYcPHy5JKigokCR1795dBw4c8Nqn6XH37t0D0FoAAACEq5CGW8MwNGfOHC1fvlwffvih+vTpc9Lv2bJliyQpIyNDkjRixAjl5+ertLTUs8+qVauUlpamAQMGBKTdAAAACE8hHZYwe/Zsvfbaa3rnnXeUmprqGSNrs9lksVi0c+dOvfbaa7r44ovVuXNnffXVV7r99ts1cuRI5eXlSZIuuugiDRgwQL/85S/12GOPaf/+/brnnns0e/Zshh4AAADEmJCWAjOZTC0+v3jxYk2bNk179+7Vtddeq23btqmyslI9e/bUFVdcoXvuucerBMT333+vm2++WWvXrlVKSoqmTp2qRx99VPHxbcvubS0tAQAAgNBoa14Lqzq3oUK4BQAACG8RWecWAAAA6IiwKQUGAABCw+02VHi4UhXV9UpNjld25xSZzS0PHQTCHeEWAIAYtq3Yqbc2F6mg1KWaOreSEszKcVg1eUiWBmbaQt08wGeEWwAAYtS2YqeeXr1DRyprlWGzyGKLU1Vtg/KLnCo+WqW5o3MJuIg4jLkFACAGud2G3tpcpCOVtcpxWGVNjlec2SRrcrxyHFYdqazVss3Fcrtjft45IgzhFgCAGFR4uFIFpS5l2CzNSnOaTCZl2CzaUVqhwsOVIWoh0D6EWwAAYlBFdb1q6tyyJMa1uN2SGKeaOrcqquuD3DKgYwi3AADEoNTkeCUlmFVV29Di9qraBiUlmJWazPQcRBbCLQAAMSi7c4pyHFaVOKt0/HpOhmGoxFmlXEeqsjunhKiFQPsQbgEAiEFms0mTh2QpPSVRBaUuuarr1eA25KquV0GpS+kpiZo0JJN6t4g4hFsAAGLUwEyb5o7O1aAsm8qqalV4qFJlVbXKy7JTBgwRi4E0AADEsIGZNg3ISGOFMkQNwi0AADHObDapb1drqJsB+AXDEgAAABA1CLcAAACIGoRbAAAARA3CLQAAAKIG4RYAAABRg3ALAACAqEG4BQAAQNQg3AIAACBqEG4BAAAQNQi3AAAAiBqEWwAAAEQNwi0AAACiBuEWAAAAUYNwCwAAgKhBuAUAAEDUINwCAAAgahBuAQAAEDUItwAAAIgahFsAAABEDcItAAAAogbhFgAAAFGDcAsAAICoQbgFAABA1CDcAgAAIGoQbgEAABA1CLcAAACIGoRbAAAARA3CLQAAAKIG4RYAAABRg3ALAACAqEG4BQAAQNQg3AIAACBqEG4BAAAQNQi3AAAAiBqEWwAAAEQNwi0AAACiRkjD7cKFC3XWWWcpNTVVDodDEydO1Pbt2z3bjxw5oltuuUWnnXaaLBaLevXqpblz58rpdHodx2QyNftasmRJsF8OAAAAQiyk4XbdunWaPXu2Pv30U61atUp1dXW66KKLVFlZKUnat2+f9u3bp9/97nfatm2bXn75ZX3wwQeaMWNGs2MtXrxYJSUlnq+JEycG+dUAAAAg1EyGYRihbkSTgwcPyuFwaN26dRo5cmSL+yxdulTXXnutKisrFR8fL6mx53b58uXtDrTl5eWy2WxyOp1KS0trb/MBAAAQIG3Na2E15rZpuEF6evoJ90lLS/ME2yazZ89Wly5ddPbZZ+ull17SiTJ7TU2NysvLvb4AAAAQ+eJPvktwuN1u3XbbbTrnnHM0cODAFvc5dOiQFixYoFmzZnk9/+CDD+rCCy9Up06d9Pe//12/+tWv5HK5NHfu3BaPs3DhQs2fP9/vrwEA2sPtNlR4uFIV1fVKTY5XducUmc2mUDcLACJS2AxLuPnmm/X+++/r448/VlZWVrPt5eXl+ulPf6r09HS9++67SkhIaPVY9913nxYvXqy9e/e2uL2mpkY1NTVex+7ZsyfDEgAE3bZip97aXKSCUpdq6txKSjArx2HV5CFZGphpC3XzACBsRNSwhDlz5mjFihVas2ZNi8G2oqJC48aNU2pqqpYvX37CYCtJw4cPV1FRkVeA/aGkpCSlpaV5fQFAsG0rdurp1TuUX+SU3ZKo7C4pslsSlV/U+Py2YufJDwIA8BLScGsYhubMmaPly5frww8/VJ8+fZrtU15erosuukiJiYl69913lZycfNLjbtmyRaeccoqSkpIC0WwA6DC329Bbm4t0pLJWOQ6rrMnxijObZE2OV47DqiOVtVq2uVhud1jcXAOAiBHSMbezZ8/Wa6+9pnfeeUepqanav3+/JMlms8lisXiC7bFjx/TXv/7Va/JX165dFRcXp/fee08HDhzQj3/8YyUnJ2vVqlV65JFHdOedd4bypQHACRUerlRBqUsZNotMJu/xtSaTSRk2i3aUVqjwcKX6drWGqJUAEHlCGm6fe+45SdKoUaO8nl+8eLGmTZumzZs3a+PGjZKknJwcr312796t7OxsJSQk6JlnntHtt98uwzCUk5OjJ598UjNnzgzKawCA9qiorldNnVsWW1yL2y2JcTpQ7lZFdX2QWwYAkS2k4fZkc9lGjRp10n3GjRuncePG+bNZABBwqcnxSkowq6q2Qdbk5pfiqtoGJSWYldrCNgBA68JiQhkAxJrszinKcVhV4qxq9iHeMAyVOKuU60hVdueUELUQACIT4RYAQsBsNmnykCylpySqoNQlV3W9GtyGXNX1Kih1KT0lUZOGZFLvFgB8RLgFgBAZmGnT3NG5GpRlU1lVrQoPVaqsqlZ5WXbNHZ1LnVsAaAcGcwFACA3MtGlARhorlAGAnxBuASDEzGYT5b4AwE8ItwAA+IHbbdADD4QBwi0AAB20rdiptzYXqaDUpZo6t5ISzMpxWDV5SBZjp4EgI9wCANAB24qdenr1Dh2prFWGzSKLLU5VtQ3KL3Kq+GgVkwOBIKNaAgAA7eR2G3prc5GOVNYqx2GVNTlecWaTrMnxynFYdaSyVss2F8vtPvGCRAD8h3ALAEA7FR6uVEGpSxk2i0wm7/G1JpNJGTaLdpRWqPBwZYhaCMQewi0AAO1UUV2vmjq3LIlxLW63JMapps6tiur6ILcMiF2MuQUAoJ1Sk+OVlGBWVW2DrMnN/6RW1TYoKcGs1Ba2tRdVGYATI9wCANBO2Z1TlOOwKr/IqZwkq9fQBMMwVOKsUl6WXdmdU/zy86jKAJwc4RYAgHYym02aPCRLxUerPGNvLYmN1RJKnFVKT0nUpCGZfulZpSoD0DaMuQUAoAMGZto0d3SuBmXZVFZVq8JDlSqrqlVelt1vgZOqDEDb0XMLAEAHDcy0aUBGWsDGwvpSlYGlnBHrCLcAAPiB2WwKWLD0VGWwtV6V4UA5VRn8hUl7kY1wCwBAmAtFVYZYxaS9yMe7AACAMBfsqgyx4vge2sqaev3xwwIm7UU4wi0AAGEumFUZYsXxPbSJ8SYdqayVJOVl2T0fIKzJ8cpJsqqg1KVlm4s1ICON33OYo1oCAAARIBhVGWJFU1m1/CKn7JZEZXdJUUJcnIqOVumIq1Zlx+q89mcp5chCzy0AAGHs+FvnvxnfX3uOHmOyUzsdX1atqYc2Ic6kpHiz6txu7T5UqVM6JUg/GP7BpL3IQbgFACBMnWhy0+Ce9lA3LyK1VlYtIc6sOLNZCSbJWVWnipp6pSYneLYzaS9yMCwBAIAw1NKtc7slUflFjc9vK3aGuokRyVNWLdG7rFpqcrzSLPGqbXCrvsGtunq3Z1vTpL1cRyqT9iIA4RYAgDDDimSB88Oyaj9kMpnUp4tVcWazahrcqm1wq8FtyFVdr4JSF5P2IgjhFgCAMOPLimTwTVNZtRJnlQzD+8PBKZ0S1DklQT1P6aT6BoNJexGKgSMAAIQZViQLnJOVVcs6pZPmXJgja1I8k/YiFOEWAIAww4pkgdVUVq1pst6B8sbJenlZdk0akkkPbYTjXQEAQJhhRbLAG5hp04CMNK8yax3poT2+ZBu9vaFDuAUAIMywIllwmM0m9e1q7fBxTlSyjV7g4CPcAgAQhrh1HhmaSrYdqaxt/BBia/wQkl/kVPHRKiaihQDhFgCAMOXvW+fwr9ZWO7MmxysnyaqCUpeWbS7WgIw0zlkQEW4BAAhj/rp1Dv/zpWQb5zB4qHMLAADQDq2tdtbEkhinmjpKtgUb4RYAAKAdWlvtrAkl20KDcAsAANAOJ1rtrKlkW64jlZJtQUa4BQAAaIemkm3pKYkqKHXJVV2vBrchV3W9CkpdlGwLEcItAABAOzWVbBuUZVNZVa0KD1WqrKpWeVl2yoCFCINAAAAAOoCSbeGFcAsAANBBlGwLHwxLAAAAQNQg3AIAACBqEG4BAAAQNQi3AAAAiBqEWwAAAEQNwi0AAACiBuEWAAAAUYNwCwAAgKjBIg4AAASQ222wchUQRCHtuV24cKHOOusspaamyuFwaOLEidq+fbvXPtXV1Zo9e7Y6d+4sq9WqyZMn68CBA1777NmzRxMmTFCnTp3kcDh01113qb6+PpgvBQCAZrYVO7Vg5Te6/92v9fDKb3X/u19rwcpvtK3YGeqmAVErpOF23bp1mj17tj799FOtWrVKdXV1uuiii1RZWenZ5/bbb9d7772npUuXat26ddq3b58mTZrk2d7Q0KAJEyaotrZWn3zyiV555RW9/PLLuu+++0LxkgAAkNQYbJ9evUP5RU7ZLYnK7pIiuyVR+UWNzxNwgcAwGYZhhLoRTQ4ePCiHw6F169Zp5MiRcjqd6tq1q1577TX97Gc/kyR999136t+/vzZs2KAf//jHev/993XJJZdo37596tatmyRp0aJFuvvuu3Xw4EElJiae9OeWl5fLZrPJ6XQqLS0toK8RABD93G5DC1Z+o/wip3IcVplM/x6GYBiGCkpdysuy654J/RmiALRRW/NaWE0oczobP8Wmp6dLkr744gvV1dVpzJgxnn1OP/109erVSxs2bJAkbdiwQYMGDfIEW0kaO3asysvL9fXXX7f4c2pqalReXu71BQCAvxQerlRBqUsZNotXsJUkk8mkDJtFO0orVHi4spUjAGivsAm3brdbt912m8455xwNHDhQkrR//34lJibKbrd77dutWzft37/fs88Pg23T9qZtLVm4cKFsNpvnq2fPnn5+NQAQeG63oV0HXdq6t0y7DrrkdofNjbiYV1Fdr5o6tyyJcS1utyTGqabOrYpq5ocA/hY21RJmz56tbdu26eOPPw74z5o3b57uuOMOz+Py8nICLoCIsq3Yqbc2F6mg1KWaOreSEszKcVg1eUiWBmbaQt28mJeaHK+kBLOqahtkTW7+p7aqtkFJCWaltrANQMeERc/tnDlztGLFCq1Zs0ZZWVme57t3767a2lqVlZV57X/gwAF1797ds8/x1ROaHjftc7ykpCSlpaV5fQFApGCiUvjL7pyiHIdVJc4qHT+1xTAMlTirlOtIVXbnlBC1EIheIQ23hmFozpw5Wr58uT788EP16dPHa/vQoUOVkJCg1atXe57bvn279uzZoxEjRkiSRowYofz8fJWWlnr2WbVqldLS0jRgwIDgvBAACBK329Bbm4t0pLJWOQ6rrMnxijObZE2OV47DqiOVtVq2uZghCiFmNps0eUiW0lMSVVDqkqu6Xg1uQ67qehWUupSekqhJQzKZTAYEQEjvh8yePVuvvfaa3nnnHaWmpnrGyNpsNlksFtlsNs2YMUN33HGH0tPTlZaWpltuuUUjRozQj3/8Y0nSRRddpAEDBuiXv/ylHnvsMe3fv1/33HOPZs+eraSkpFC+PADwO18mKvXtag1RKyFJAzNtmjs61zN85EB54/CRvCy7Jg3JZPgIECAhDbfPPfecJGnUqFFezy9evFjTpk2TJP3+97+X2WzW5MmTVVNTo7Fjx+rZZ5/17BsXF6cVK1bo5ptv1ogRI5SSkqKpU6fqwQcfDNbLAICg8UxUsrU+UelAOROVwsXATJsGZKSxQhkQRGFV5zZUqHMLIFLsOujS/e9+LbslscWJSq7qepVV1Wr+ZWf41HPLErGRp77erX/uPKSDFTXqmpqkc/p1UXx8WEylAQKirXmNaZoAEEGaJirlFzmVk9R8cYASZ5Xysuw+TVRqT+UFwnBovbOlWH9et1P7nNWqbzAUH2dSD1uybjy/ny4/MzPUzQNCinALABGkaaJS8dEqz9hbS2KcqmobVOKs8nmiUlPlhSOVtY3HsjUeK7/IqeKjVZo7OrdZwKUMWWi9s6VYD634RlW1DUqzJCjJYlZNvVt7Dh/TQyu+kSQCLmIa9y8AIMI0TVQalGVTWVWtCg9VqqyqVnlZ9hbDaGvaU3mBMmShVV/v1p/X7VRVbYMcaUmyJMbLbDbLkhgvR1qSqmob9Py6Xaqvd4e6qUDI0HMLABHIHxOVfK28cHwYbvoea3K8cpKsKih1adnmYg3ISGOIQoD8c+ch7XNWK82SIJPJu3/KZDIrzZKgYmeV/rnzkM4/zRGiVgKhRbgFgAhlNps6VO7L18oLlCELvYMVNapvMJRkafnGa2K8WeXV9TpYURPklgHhg2EJABCjfrhEbEuOXyLWE4YTWw/DNXWUIQukrqlJio8zqaaVYQe19W7Fx5nUNZU674hdHQ635eXlevvtt/Xtt9/6oz1A2HK7De066NLWvWXaddDFClCIeL4uEetrGIb/ndOvi3rYklVeVSfD8A64huFWeVWdMm0WndOvS4haCISez1egK6+8UiNHjtScOXNUVVWlYcOGqbCwUIZhaMmSJZo8eXIg2gmEVCzMDqe0U+zxtfJCIMqQwTfx8WbdeH4/PbTiG5WW1yjNkqDEeLNq6xuDrSUxTrPO70u9W8Q0n8Pt+vXr9Zvf/EaStHz5chmGobKyMr3yyit66KGHCLeIOu0plRRpYiG8o2W+LBHr7zJkaJ+mMl9NdW7Lq+sVH2dS784pmnV+X8qAIeb5vEKZxWLRv/71L/Xs2VPXXXedevTooUcffVR79uzRgAED5HK5AtXWgGGFMrTG7Ta0YOU3jT1VjuY9VQWlLuVl2XXPhP4R+we9WXg/LqxEQ3jHyfnSc9/Sh6FcR2qzMIzAYoUyxJqArVDWs2dPbdiwQenp6frggw+0ZMkSSdLRo0eVnJzc/hYjpkTKLfBonx1OaSc08aXygj/KkKHj4uPNlPsCWuBzuL3ttts0ZcoUWa1W9erVS6NGjZLUOFxh0KBB/m4folAk3QL3tVRSpIn28I7A6WgZMgAIFJ/D7a9+9SudffbZ2rt3r37605/KbG68BdK3b1899NBDfm8goou/xq8Gq+f3h7PDrS3MAI/02eHRHt4BALGnXX+Rhw0bpry8PO3evVv9+vVTfHy8JkyY4O+2Icr46xZ4MHt+o312eLSHdwBA7PF55PmxY8c0Y8YMderUSWeccYb27NkjSbrlllv06KOP+r2BiB6+3AJvTbDXtW+aHZ6ekqiCUpdc1fVqcBtyVderoNQV8bPDfa1zCgBAuPM53M6bN09bt27V2rVrvSaQjRkzRq+//rpfG4fo0tHVjY7v+bUmxyvObGrs+XVYdaSyVss2F/t9cYWmUkmDsmwqq6pV4aFKlVXVKi/LHvGVBKI9vAMAYo/P9xrffvttvf766/rxj3/s1ft2xhlnaOfOnX5tHKJLR2+Bh3LyUzTPDvelzikAAOHO53B78OBBORzNS49UVlY2CxzAD3V0/GqoJz9F8+zwaA7vAIDY4vOwhGHDhmnlypWex00B5YUXXtCIESP81zJEnY7eAmdd+8BqCu+De9rVt6uVYAsAiEg+p4BHHnlE48eP1zfffKP6+no99dRT+uabb/TJJ59o3bp1gWgjokhHboFHe+UCIBxEygIrANAan8Ptueeeqy1btujRRx/VoEGD9Pe//11DhgzRhg0bWMQBbdLeW+Csaw8EViQtsAIArTEZx9f/iUFtXasY4YF17QH/a7bAynEfHCO9MgiAyNfWvOZzz21TXdvW9OrVy9dDAj5h8hPgX/5aYAUAwoHP4TY7O/uEVREaGlqe7AP4UzRXLgCCLZRl9gDA33wOt19++aXX47q6On355Zd68skn9fDDD/utYQCA4Ah1mT0A8Cefw+3gwYObPTds2DD16NFDjz/+uCZNmuSXhgEAgqOjC6wAQDjxuc5ta0477TR9/vnn/jpczHO7De066NLWvWXaddDl9yVlAZxYLL0Hm8rslTirdPwc46Yye7mOVMrsAYgIPn8MLy8v93psGIZKSkr0wAMPKDc3128Ni2WU4wFCK9beg5TZAxBNfA63dru92YQDwzDUs2dPLVmyxG8Ni1XNyvHYGv/A5Bc5VXy0inI8QIDF6nuwIwusAEA48Tncrlmzxuux2WxW165dlZOTo/h4xmN1BOV4gNCK9fcgZfYARAOf0+j5558fiHZAlOMBQo33IGX2AES+NoXbd999t80HvOyyy9rdmFhHOR4gtHgPAkDka1O4nThxYpsOZjKZWMShAyjHA4QW70EAiHxtKgXmdrvb9EWw7RjK8QChxXsQACKf3+rcouOayvGkpySqoNQlV3W9GtyGXNX1Kih1UY4HCDDegwAQ+UzG8d0TbVBZWal169Zpz549qq2t9do2d+5cvzUuWMrLy2Wz2eR0OpWWlhbq5rRYYzPXkUo5HiBIeA8CQPhpa17zOdx++eWXuvjii3Xs2DFVVlYqPT1dhw4dUqdOneRwOLRr164ONz7Ywi3cSo0liSjHA4QO70EACC9tzWs+z4q4/fbbdemll2rRokWy2Wz69NNPlZCQoGuvvVa33nprhxqNf6McT+AQWtAWvAcBIDL5HG63bNmiP//5zzKbzYqLi1NNTY369u2rxx57TFOnTtWkSZMC0U7AL2JtWVUAAGKNzxPKEhISZDY3fpvD4dCePXskSTabTXv37vVv6wA/alpWNb/IKbslUdldUmS3JCq/qPH5bcXOUDexQ9xuQ7sOurR1b5l2HXTJ7fZ5OD0AABHP557bH/3oR/r888+Vm5ur888/X/fdd58OHTqk//7v/9bAgQMD0Uagw6J9WVV6pAHECoaW4WTaHG4bGhoUFxenRx55RBUVFZKkhx9+WNddd51uvvlm5ebm6qWXXgpYQ4GOiOZlVZt6pI9U1irDZpHFFqeq2gblFzlVfLRKc0fnEnABRAU+yKMt2hxuMzMzNW3aNE2fPl3Dhg2T1Dgs4YMPPghY4wB/idZlVaO9RxoAmvBBHm3V5jG3s2fP1ptvvqn+/fvrvPPO08svv6xjx44Fsm2A3/xwWdWWROqyqr70SANApDr+g7w1OV5xZlPjB3mHVUcqa7VsczFzDSDJh3B77733qqCgQKtXr1bfvn01Z84cZWRkaObMmdq4cWMg2wh0WLQuq+rpkU5svUe6pi7yeqQB4If4IA9f+FwtYdSoUXrllVe0f/9+PfHEE/r22281YsQInXHGGXryyScD0Uagw6J1WdVo7ZEG4B/RUkWFD/LwRbuW3z3eypUrdd1116msrEwNDS3/kQ1n4bhCGQIj3JZV7eisX7fb0IKV3yi/yOk15lZq7JEuKHUpL8uueyb0j7jgDqBjomny1a6DLt3/7teyWxJlbeHDuqu6XmVVtZp/2RkRNym4I2KtckTAVihrcuzYMb3xxhtavHixPv74Y/Xr10933XVXew8HBMXATJsGZKSFxcXAH394mnqki49WeW7ZWRIbJ1mUOKsitkcaQMdE2+SrpqFl+UVO5SQ1/yBf4qxSXpY94oaWdUQ0fXjxN5/D7SeffKKXXnpJS5cuVX19vX72s59pwYIFGjlyZCDaB/hdOCyr6s8/PAMzbZo7OtdzkTtQ3niRy8uyh6xHGkDoRGMVFT7Ie4u2Dy/+1uYxt4899pinUkJ+fr4ef/xx7d+/X6+88kq7g+369et16aWXqkePHjKZTHr77be9tptMpha/Hn/8cc8+2dnZzbY/+uij7WoPEAyBmPU7MNOmeycM0PzLztBvJvTX/MvO0D0T+sf0xQ2IVdE6+arpg/ygLJvKqmpVeKhSZVW1ysuyx1SYo3LEybW55/bxxx/Xtddeq6VLl/ptJbLKykoNHjxY06dP16RJk5ptLykp8Xr8/vvva8aMGZo8ebLX8w8++KBmzpzpeZyamuqX9gGBEKgFJcKhRxoIplgbb9hW0VrXWwqvoWWhEs2LEvlLm8Ptvn37lJCQ4NcfPn78eI0fP77V7d27d/d6/M477+iCCy5Q3759vZ5PTU1tti8QrqL5Dw8QLIw3bN0Pq6i0NPkq0quoxPoHef6GnFybhyX4O9j66sCBA1q5cqVmzJjRbNujjz6qzp0760c/+pEef/xx1def+ITW1NSovLzc6wsIFsp3AR3TNN4wv8gpuyVR2V1SZLckKr+o8fltxc5QNzGkorWuNxrxN+TkfK5zGyqvvPKKUlNTmw1fmDt3rpYsWaI1a9boxhtv1COPPKL/9//+3wmPtXDhQtlsNs9Xz549A9l0wAt/eID2Y7zhyUVrXW804m/IyUVMrH/ppZc0ZcoUJScnez1/xx13eP6dl5enxMRE3XjjjVq4cKGSkpJaPNa8efO8vq+8vJyAi6Bh1i/Qfow3bBuqqEQv/oacXESE248++kjbt2/X66+/ftJ9hw8frvr6ehUWFuq0005rcZ+kpKRWgy8QDPzhAdqH8YZtx+Sr6MXfkBNrU7j1ZUxqIFb4evHFFzV06FANHjz4pPtu2bJFZrNZDofD7+0A/Ik/PPCnWKkcEO2Tpfwt1idfRTP+hrSuTe9+u93e7PZPa3xZftflcqmgoMDzePfu3dqyZYvS09PVq1cvSY3BeunSpXriiSeaff+GDRu0ceNGXXDBBUpNTdWGDRt0++2369prr9Upp5zS5nYAocIfHvhDLFUOYKUq4N/4G9KyNoXbNWvWeP5dWFioX//615o2bZpGjBghqTFkvvLKK1q4cKFPP3zTpk264IILPI+bxsFOnTpVL7/8siRpyZIlMgxD11xzTbPvT0pK0pIlS/TAAw+opqZGffr00e233+41nhYAolmsrVQUCeMNY6UXHQhXJuP4qXYnMXr0aN1www3NwuZrr72m559/XmvXrvVn+4KivLxcNptNTqczIMMqog0XbiA8uN2GFqz8prEX09G8F7Og1KW8LLvumdA/6t6jLfVW5zpSQz7eMJZ60YFga2te83lQ0oYNG7Ro0aJmzw8bNkw33HCDr4dDhOHCDQRfax8oY7lyQDiON4y1XnQgXPkcbnv27Kn/+q//0mOPPeb1/AsvvEA5rSjHhRsIvhN9oGxwGzFdOSCcxhseX3+36cOGNTleOUlWFZS6tGxzsQZkpEVdLzoQbnwOt7///e81efJkvf/++xo+fLgk6bPPPtOOHTv01ltv+b2BCA9cuIHWBWqozsk+UE4ekknlgDARy73oQLjx+Yp38cUX61//+peee+45fffdd5KkSy+9VDfddBM9t1GMCzfQskAN1WnLB8pPdx1Rv64p2lZcTuWAEKP+LhA+2vVxvmfPnnrkkUf83RaEMS7ckYMJf8ETyKE6bflAWXDQpWuH99a+suqwrRwQK6i/C4SPdr3LPvroI/35z3/Wrl27tHTpUmVmZuq///u/1adPH5177rn+biPCABfuyMCEv+AJ9FCdtn6g7G5LZqWiMED9XSB8+JxE3nrrLf3yl7/UlClTtHnzZtXU1EiSnE6nHnnkEf3P//yP3xuJ0OPCHf6Y8BdcgR6q48sHyr5drWFXOSDWREL9XSBWmH39hoceekiLFi3Sf/3XfykhIcHz/DnnnKPNmzf7tXEIH00X7vSURBWUuuSqrleD25Crul4FpS4u3CF2fC+iNTlecWZTYy+iw6ojlbVatrlYbrdPZa1xAp6e1cTWe1Zr6to/VKfpA2WJs0rHlyNv+kCZ60j1fKBsqhwwuKddfbtaY+K96HYb2nXQpa17y7TroCvk/78HZto0d3SuBmXZVFZVq8JDlSqrqlVelp0Pl0AQ+dxzu337do0cObLZ8zabTWVlZf5oE8JU04Wb25/hhwl/wRfooTr0BJ5YuA7BCcf6u0Cs8fmq2717dxUUFCg7O9vr+Y8//lh9+/b1V7sQprhwh1Zrk8VidcJfKCfPBWOoDh8oWxbuQ3DCqf4uEIt8DrczZ87Urbfeqpdeekkmk0n79u3Thg0bdOedd+ree+8NRBsRZrhwh8aJeqpiccJfqHvugtWzygdKb9TcBnAyPv+l+/Wvfy23263Ro0fr2LFjGjlypJKSknTnnXfqlltuCUQbgZh3sp6qWy7MiakJf+HScxesnlU+UP4bQ3DCAyUHEc58Drcmk0m/+c1vdNddd6mgoEAul0sDBgyQ1cpFBAiEtvRULf9yn674UWZMjM8Mt547elaDK1aH4ISTUN81AU7G52oJ06dPV0VFhRITEzVgwACdffbZslqtqqys1PTp0wPRRiCmtbWnypoUHxMztX3puQuWWKxUECo/HILTkmgcghNOmu6a5Bc5ZbckKrtLiuyWROUXNT6/rdgZ6iYCvvfcvvLKK3r00UeVmprq9XxVVZX+8pe/6KWXXvJb4wD41lM1uKc96nsR6bmLbdTcDp1wu2sCtKbN4ba8vFyGYcgwDFVUVCg5OdmzraGhQf/zP/8jh8MRkEYCsczXyWLRPj4zFifP4d8okRY6jHdGpGjz1d9ut8tkMslkMunUU09ttt1kMmn+/Pl+bRwAeqqOx+8DlEgLDe6aIFK0OdyuWbNGhmHowgsv1FtvvaX09HTPtsTERPXu3Vs9evQISCOBWEZPlTd+H5CYyBcK3DVBpDAZx6/reBLff/+9evXq1eyWRCQrLy+XzWaT0+lUWlpaqJsDtKilGcq5jtSY7ani9wEEl9ttaMHKbxrvmjia3zUpKHUpL8uueyb050MGAqKtec3nj1cffvihrFarfv7zn3s9v3TpUh07dkxTp071vbUAToqeKm/8PoDg4q4JIoXPpcAWLlyoLl26NHve4XDokUce8UujALSMklPe+H0AwdU03jnaSw4isvncc7tnzx716dOn2fO9e/fWnj17/NIoIJywEg8A/Bt3TRDufA63DodDX331lbKzs72e37p1qzp37uyvdgFhgZV4AKC5aC85iMjmc7i95pprNHfuXKWmpmrkyJGSpHXr1unWW2/V1Vdf7fcGAqHStBLPkcraxrFltsaxZflFThUfrYq5W3D0YAMAIoHP4XbBggUqLCzU6NGjFR/f+O1ut1vXXXcdY24REdoS0liJxxs92ACASOFzuE1MTNTrr7+uBQsWaOvWrbJYLBo0aJB69+4diPYBftXWkMZKPP9GDzYAIJK0u9Lyqaee2uJKZUC48iWk/XAlHsMwVFFdr7oGtxLiGguUx8pKPPRgAwAiTZvC7R133KEFCxYoJSVFd9xxxwn3ffLJJ/3SMMCffA1pTSvx7HdWa395lcqr6tXgNhRnNinNEq/uaZaYWImHHmwAQKRp01/mL7/8UnV1dZ5/tyaaVi1DdPE1pGV3TtEpnRK0/l+HFB9nUqfEeMWbTap3GzpSWavS8hqdf2pXZXdOCdErCg7WkgcARJo2hds1a9a0+G8gUrQvpDWG4ONXqPZxxeqIxlryAIBI4/MKZUAk+mFIa8nxIa3wcKWOHqtVXpZNna1Jqq1vDL619W51sSYrL8umI8dqVXi4MpgvI+iyO6cox2FVibOqxZBf4qxSriM16nuwAQCRo03dLZMmTWrzAZctW9buxgCB0hTS8oucykmyeg1NaAppeVl2T0hr6unN7pKiTLtFFTX1qqt3KyHerNSkeDUYUuGhyqi/Hc9a8gCASNOmnlubzeb5SktL0+rVq7Vp0ybP9i+++EKrV6+WzUY5IISnppCWnpKoglKXXNWNE8Rc1fUqKHU1C2lePb0mk1KTE5RuTVJqcoJkMsXU7XjWkgcARJI2/WVevHix59933323rrzySi1atEhxcY3jFxsaGvSrX/1KaWlpgWkl4AdNIa2pzu2B8sY6t3lZdk0akukV0nzt6Y12rCUPAIgUJsPH2TFdu3bVxx9/rNNOO83r+e3bt+snP/mJDh8+7NcGBkN5eblsNpucTicBPQa0dRnZZnVxj7sdT68lAADB09a85vM91fr6en333XfNwu13330nt9vte0uBIDObTW2qyepLTy8AAAgPPofb66+/XjNmzNDOnTt19tlnS5I2btyoRx99VNdff73fGwiEErfjAQCILD6H29/97nfq3r27nnjiCZWUlEiSMjIydNddd+k//uM//N5AINTa2tMLAABCz+cxtz9UXl4uSRE/TpUxtwAAAOGtrXmtXYs41NfX6x//+If+9re/eWaR79u3Ty6Xq32tBQAAAPzA52EJ33//vcaNG6c9e/aopqZGP/3pT5Wamqrf/va3qqmp0aJFiwLRTgDA/2lrxQ8AiEU+h9tbb71Vw4YN09atW9W5c2fP81dccYVmzpzp18YBkSrQ4YNwE7u2FTs9FTxq6horeOQ4rJo8JIsKHgCgdoTbjz76SJ988okSExO9ns/OzlZxcbHfGgZEqkCHD8JN7GpWe9nWWHs5v8ip4qNV1F4GALVjzK3b7VZDQ0Oz54uKipSamuqXRgGRqil85Bc5ZbckKrtLiuyWROUXNT6/rdgZ1sdH+HK7Db21uUhHKmuV47DKmhyvOLNJ1uR45TisOlJZq2Wbi+V2t3uOMABEBZ/D7UUXXaQ//OEPnscmk0kul0v333+/Lr74Yn+2DYgogQ4fhJvYVni4UgWlLmXYLF7LQUuN1+EMm0U7SitUeLgyRC0EgPDgc7j93e9+p3/+858aMGCAqqur9Ytf/MIzJOG3v/1tINoIRIRAhw/CTWyrqK5XTZ1blsS4FrdbEuNUU+dWRXV9kFsGAOHF5zG3PXv21NatW/X6669r69atcrlcmjFjhqZMmSKLxRKINgIRwRM+bK2HjwPl7Q8fgT4+wltqcrySEsyqqm2QNbn5pbuqtkFJCWaltrANAGKJT1fBuro6nX766VqxYoWmTJmiKVOmBKpdQMQJdPgg3MS27M4pynFYlV/kVE6S1av33jAMlTirlJdlV3bnlBC2EgBCz6dhCQkJCaqurg5UW4CI1hQ+SpxVOn7hv6bwketIbXf4CPTxEd7MZpMmD8lSekqiCkpdclXXq8FtyFVdr4JSl9JTEjVpSCYl4QDEPJ/H3M6ePVu//e1vVV/PrU/4n9ttaNdBl7buLdOug66ImhwV6PBBuMHATJvmjs7VoCybyqpqVXioUmVVtcrLslMGDAD+j8k4vgvoJK644gqtXr1aVqtVgwYNUkqKdy/RsmXL2nys9evX6/HHH9cXX3yhkpISLV++XBMnTvRsnzZtml555RWv7xk7dqw++OADz+MjR47olltu0XvvvSez2azJkyfrqaeektVqbXM72rpWMQIrWuq3tvQ6ch2pmjQkM2B1bv15fIQ/FvEAEIvamtd8Hpxnt9s1efLkDjWuSWVlpQYPHqzp06dr0qRJLe4zbtw4LV682PM4KSnJa/uUKVNUUlKiVatWqa6uTtdff71mzZql1157zS9tRHBEU3H6gZk2DchIC1j4CPTxEf7MZpP6dm37B3gAiCU+h9sfBs2OGj9+vMaPH3/CfZKSktS9e/cWt3377bf64IMP9Pnnn2vYsGGSpD/+8Y+6+OKL9bvf/U49evRo8ftqampUU1PjeVxeXt7OVwB/OL5+a9NEGWtyvHKSrCoodWnZ5mINyEiLmAAX6PBBuAEAoGVtHnPrdrv129/+Vuecc47OOuss/frXv1ZVVVUg2yZJWrt2rRwOh0477TTdfPPNOnz4sGfbhg0bZLfbPcFWksaMGSOz2ayNGze2esyFCxfKZrN5vnr27BnQ14ATo34rAADwlzaH24cfflj/+Z//KavVqszMTD311FOaPXt2INumcePG6S9/+YtWr16t3/72t1q3bp3Gjx/vWf53//79cjgcXt8THx+v9PR07d+/v9Xjzps3T06n0/O1d+/egL4OnBjF6QEAgL+0eVjCX/7yFz377LO68cYbJUn/+Mc/NGHCBL3wwgsym30uutAmV199teffgwYNUl5envr166e1a9dq9OjR7T5uUlJSs7G7CB3qtwIAAH9pcyrds2ePLr74Ys/jMWPGyGQyad++fQFpWEv69u2rLl26qKCgQJLUvXt3lZaWeu1TX1+vI0eOtDpOF6FxohJf1G8FAAD+0uausPr6eiUnJ3s9l5CQoLq6Or83qjVFRUU6fPiwMjIyJEkjRoxQWVmZvvjiCw0dOlSS9OGHH8rtdmv48OFBaxdO7GQlvprqtxYfrfKMvbUkNlZLKHFWUb8VAAC0WZvDrWEYmjZtmtft/Orqat10001etW59qXPrcrk8vbCStHv3bm3ZskXp6elKT0/X/PnzNXnyZHXv3l07d+7U//t//085OTkaO3asJKl///4aN26cZs6cqUWLFqmurk5z5szR1Vdf3WqlBARXW0t8NRWnbwrBB8obQ3Belp36rQAAoM3avIjD9ddf36YD+lIqbO3atbrggguaPT916lQ999xzmjhxor788kuVlZWpR48euuiii7RgwQJ169bNs++RI0c0Z84cr0Ucnn76aRZxCANut6EFK79RfpHTq8SX1PhhqaDUpbwsu+6Z0N/TK0txegAA0JK25jWfVyiLRoRb//lhOC07Vqv/+miXTumU1OJEMVd1vcqqajX/sjOo2QoAAE4oYCuUAa05fmxtbYNbJWVVyusZL2sL/9UsiXE6UE6JLwAA4D+BqeGFmNM0tja/yCm7JVHZXVJ0SqcEHatr0FdFTh2prG32PZT4AgAA/ka4RYcdv3yuNTlecWaTuqclq3takiqr67T7kMurzBclvgAAQCAQbtFhrS6fazKpX9dUWZPitd9ZrQPlNWpwG3JV16ug1EWJLwAA4HfcD0aHeZbPtTVfPveUlEQNyrLrq+IyHT1Wo8qaekp8AQCAgCHcosNOtnxuckKcTnWk6obz+sjeKZESXwAAIGAIt+iwpuVz84ucyklqXs+2xFmlvCy7zsvtSqAFAAABxZhbdFjT8rnpKYkqKHXJVV3P2FoAABAShFv4RdPyuYOybCqrqlXhoUqVVdUqL8vuWWIXAAAg0BiWAL8ZmGnTgIw0ls8FAAAhQ7iFX5nNJpbSBQAAIUO4RUi53QY9vQAAwG8ItwiZbcVOvbW5SAWlLtXUuZWUYFaOw6rJQ7IYowsAANqFcIuQ2Fbs1NOrd+hIZa0ybBZZbHGqqm1QfpFTxUermIQW4+jRBwC0F+EWQed2G3prc5GOVNYqx/HvurjW5HjlJFlVUOrSss3FGpCRRqCJQfToAwA6glJgCLrCw5UqKHUpw2bxWvBBkkwmkzJsFu0orVDh4coQtRCh0tSjn1/klN2SqOwuKbJbEpVf1Pj8tmJnqJsIAAhzhFsEXUV1vWrq3LIkxrW43ZIYp5o6tyqq64PcMoTS8T361uR4xZlNjT36DquOVNZq2eZiud1GqJsKAAhjhFsEXWpyvJISzKqqbWhxe1Vtg5ISzEpNZtRMLKFHHwDgD4RbBF125xTlOKwqcVbJMLx74QzDUImzSrmOVGV3TglRCxEK9OgDAPyBcIugM5tNmjwkS+kpiSoodclVXa8GtyFXdb0KSl1KT0nUpCGZTCaLMfToAwD8gXCLkBiYadPc0bkalGVTWVWtCg9VqqyqVnlZdsqAxSh69AEA/kAXCEJmYKZNAzLSqGcKSf/u0S8+WuUZe2tJbKx/XOKsokcfANAmhFuElNlsUt+u1lA3A2GiqUe/qc7tgfLGOrd5WXZNGpJJjz6CjgVFgMhDuI0hXKQRCejRR7hgQREgMhFuYwQXaUQSevQRaiwRDkQuJpTFAFZ9AoC2Y0ERILIRbqMcF2kA8A0LigCRjXAb5bhIA4BvWFAEiGyE2yjHRRoAfMOCIkBkI9xGOS7SAOAbFhQBIhvhNspxkQYA37BEOBDZCLdRjos0APiOJcKByGUyju/Oi0Hl5eWy2WxyOp1KS0sLdXMCoqU6t7mOVFZ9AoATYPEbIHy0Na8x0DJGsOoTAPiOBUWAyEO4jSFcpAOH3h0AAMID4RboIJY2BgAgfBBugQ5g/XkAAMIL1RKAdmJpYwAAwg/hFmgnljYGACD8MCwBaCfP0sa21pc2PlDetqWNmZAGAIB/EG6Bdvrh0sbWFpYvbuvSxkxIAwDAfxiWALSTP5Y2bpqQll/klN2SqOwuKbJbEpVf1Pj8tmJnoF8GAABRhXALtFNHlzZmQhoAAP5HuAU6oCPrzzMhDQAA/2PMLdBB7V3a2J8T0gAAQCPCLeAH7Vna2F8T0gAAwL8xLAEIEX9MSAMAAN4It0CIdHRCGgAAaI5wC4RQRyakAQCA5kIabtevX69LL71UPXr0kMlk0ttvv+3ZVldXp7vvvluDBg1SSkqKevTooeuuu0779u3zOkZ2drZMJpPX16OPPhrkVwK038BMm+6dMEDzLztDv5nQX/MvO0P3TOhPsAUAoB1COlOlsrJSgwcP1vTp0zVp0iSvbceOHdPmzZt17733avDgwTp69KhuvfVWXXbZZdq0aZPXvg8++KBmzpzpeZyamhqU9gP+0p4JaQAAhEK4Lxkf0nA7fvx4jR8/vsVtNptNq1at8nruT3/6k84++2zt2bNHvXr18jyfmpqq7t27B7StAGJbuF/MASAYImHJ+IiqMeR0OmUymWS3272ef/TRR7VgwQL16tVLv/jFL3T77bcrPr71l1ZTU6OamhrP4/Ly8kA1GUAUiISLOQAEWtOS8Ucqa5Vhs8hii1NVbYPyi5wqPloVNnNFIibcVldX6+6779Y111yjtLQ0z/Nz587VkCFDlJ6erk8++UTz5s1TSUmJnnzyyVaPtXDhQs2fPz8YzQYQ4SLlYg4AgXT8kvFNK2tak+OVk2RVQalLyzYXa0BGWsjvapmM4wtshojJZNLy5cs1ceLEZtvq6uo0efJkFRUVae3atV7h9ngvvfSSbrzxRrlcLiUlJbW4T0s9tz179pTT6TzhsQHEFrfb0IKV3yi/yOl1MZcaaxEXlLqUl2XXPRP6h/xiDgCBtOugS/e/+7XslsQWFx5yVderrKpW8y87I2BzSMrLy2Wz2U6a18K+FFhdXZ2uvPJKff/991q1atVJw+fw4cNVX1+vwsLCVvdJSkpSWlqa1xcAHK/wcKUKSl3KsFm8gq3U+IE8w2bRjtIKFR6uDFELASA4PEvGJ7a+ZHxNXXgsGR/W4bYp2O7YsUP/+Mc/1Llz55N+z5YtW2Q2m+VwOILQQgDRLJIu5gAQSD9cMr4l4bRkfEhb4HK5VFBQ4Hm8e/dubdmyRenp6crIyNDPfvYzbd68WStWrFBDQ4P2798vSUpPT1diYqI2bNigjRs36oILLlBqaqo2bNig22+/Xddee61OOeWUUL0sAFHihxfzlm7DhdPFHAACqWnJ+Pwip3KSmg/TKnFWKS/LHhZLxof0irxp0yZdcMEFnsd33HGHJGnq1Kl64IEH9O6770qSzjzzTK/vW7NmjUaNGqWkpCQtWbJEDzzwgGpqatSnTx/dfvvtnuMAiGyhLr8VSRfzcBTq8wfAf5qWjC8+WuUZrmVJbJxgW+KsCqsl48NmQlkotXWAMoDgCZfyW82qJRx3MadaQsvC5fwB8K+W3tu5jlRNGpIZ8Pd2W/Ma4VaEWyDchFugDOXFPBKF2/kD4F+huivT1rzGQLEg4zYdcGLhWEtxYKZNAzLSeO+2QTiePwD+Fe5LxhNug4jbdMDJ+VJ+K5gX13C/mIeLcD1/AGJHWJcCiyZNt+nyi5yyWxKV3SVFdkui8osan99W7Ax1E4GwQPmtyMb5AxBqhNsgOP42nTU5XnFmU+NtOodVRyprtWxzsdzumB/+DERULUU0x/lDe7ndhnYddGnr3jLtOujibyLajatLEHCbDmg7ym9FNs4f2oNhe/Anem6DgNt0QNs11VJMT0lUQalLrup6NbgNuarrVVDqCqtaimiO8wdfMWwP/ka4DQJu0wG+GZhp09zRuRqUZVNZVa0KD1WqrKpWeVl2ykhFAM4f2ophewgE0lQQcJsO8B3ltyIb5w9twbA9BALhNggiack6IJycrPwWdaPDG+XTcDKeYXu21oftHShn2B58Q7gNkqbbdE0D5g+UNw6Yz8uys8oR0A5MQAEi3w+H7VlbGJrHsD20B/9bgojbdIB/NFve1dZ4JyS/yKnio1WM6wQiBMP2EAiE2yDjNh3QMSzvCkQPhu0hEKiWACCi+DIBBf5DgX0ECtU14G/03AKIKExACT7GNyPQGLYHfyLcAogoTEAJLsY3I1gYtgd/YVgCgIjSNAGlxFklw/C+Nd40ASXXkcoEFD+gwD6ASES4BRBRWN41eBjfDCASEW4BRBwmoASHZ3xzYuvjm2vqGN8MILwwKA3wI1bM8hbI3wcTUAKP8c0AIhFXJMBPmFHuLRi/DyagBBYF9gFEIsIt4AfMKPfG7yM6UGAfQCRizC3QQcwo98bvI7owvhlApKHnFuggX2aUx8ItdH4f0YfxzQAiCeEW6CBWzPLG7yM6Mb4ZQKRgWALQQT+cUd6SWJtRzu8DABBKhFugg1gxyxu/DwBAKBFugQ5ixSxv/D4AAKFkMo7vWolB5eXlstlscjqdSktLC3VzEKFaquua60jVpCGZMTmjnN8HAMCf2prXGPQG+Akzyr3x+wAAhALhFvCD45eZHZRpI8SJGfYAgOAj3AIdxLK7AACED8It0AEsMwsAQHihWgLCitttaNdBl7buLdOug66wXqKVZWYBAAg/9NzCL44fc9qeiUORdnufZWYBAAg/hFt0mD9CaSTe3meZWQAAwg/DEtAhTaE0v8gpuyVR2V1SZLckKr+o8fltxc6THiNSb++zzCwAAOGHcIt2a08obWlMrS+398MJy8y2XSSNpYbvOL8AwgldSlHEH+NefeHrmNPWhi/kZdoi8vZ+0zKzxUerPL8HS2LjcIoSZ1XYLDMb7P8Xx4u0sdTwDecXrQn1tQexi3AbJULxB8aXMacnGlP7rwMVqmtwq6q2QdYWbuGH8+39gZk2zR2d6/ndHyhv/N3nZdnDYpnZUAePSBxLjbbj/KI1ob72ILaFX1qAz0L1B+aHY05PFEpTkuL06sY9nuELTb281uR45SRZGy9+9Q3aV3ZMud1SvXqBm27v52XZw/b2frguMxvq4HH8sJWWzvuyzcUakJEW8t8VfMf5RWtCfe0BGHMb4UI5GautY04lnXT4QlJ8nJIT4lRQ6pKrul4NbkOu6noVlLrC5vb+iTQtMzu4p119u1pD3tZwmKQXqWOp0TacX7QkHK49AOE2woXyD0zTmNP0lMQThtLKmobG4QuJrQ9fSIgza/LQLA3KsqmsqlaFhypVVlWrvCw7n/LbIRyCh2fYygnOe01d+I2lRttwftGScLj2AAxLiHChrrXaljGnuw662jR84cyedk08MzPsbu9HolD/v5DaPmwlHMdS4+Q4v2hJOFx7AK46ES4c/sCcbMxp0/CF/CKncpKsJxxT23R7Hx0TDv8vfDnvOLFwnHXO+UVLwuHaA/C/K8KFyx+YE4XSSCmZFU3C4f8F590/wnXWOecXLQmHaw/AmNsI19Zxr6H+A9M0fCGSxtRGcmH6cPl/EYnnPZz4YwXAQOL84njhcu1BbDMZx09zj0Hl5eWy2WxyOp1KS0sLdXPapaXenVxHaljUWv2hcLy92pJw7S3zVbj8v4iU8x5O3G5DC1Z+09gD5mjeA1ZQ6lJell33TOgf8t8l5xfHC5drD6JLW/Ma4VbREW4l/sD4S7Majcfdao20Hin+X0SmXQdduv/dr2W3JLY4dtFVXa+yqlrNv+wMxqkjLHHtgb+1Na+FdFjC+vXrdemll6pHjx4ymUx6++23vbYbhqH77rtPGRkZslgsGjNmjHbs2OG1z5EjRzRlyhSlpaXJbrdrxowZcrlcQXwV4eNktVYj+TZ7sERjjcZwq8GLtqHUFiId1x6ESkjDbWVlpQYPHqxnnnmmxe2PPfaYnn76aS1atEgbN25USkqKxo4dq+rqas8+U6ZM0ddff61Vq1ZpxYoVWr9+vWbNmhWslxAxthU7tWDlN7r/3a/18Mpvdf+7X2vBym9CPmYv3FCjEeHih7POW8KscwBoWUiviuPHj9f48eNb3GYYhv7whz/onnvu0eWXXy5J+stf/qJu3brp7bff1tVXX61vv/1WH3zwgT7//HMNGzZMkvTHP/5RF198sX73u9+pR48eQXst4YylENuOGo0IF8w6B4D2CdtqCbt379b+/fs1ZswYz3M2m03Dhw/Xhg0bJEkbNmyQ3W73BFtJGjNmjMxmszZu3NjqsWtqalReXu71Fa2i8TZ7INFbhnDBrHMAaJ+wDbf79++XJHXr1s3r+W7dunm27d+/Xw6Hw2t7fHy80tPTPfu0ZOHChbLZbJ6vnj17+rn14YPb7L5p6i0rcVbp+LmWTb1luY5UessQFJTaAgDfxWT307x583THHXd4HpeXl0dtwOU2u28oTI9wc7IVAAEA3sI23Hbv3l2SdODAAWVkZHieP3DggM4880zPPqWlpV7fV19fryNHjni+vyVJSUlKSkryf6PDEEsh+q6pt6ypRuOB8sYajXlZdmo0IiRYlhoA2i5sE02fPn3UvXt3rV692hNmy8vLtXHjRt18882SpBEjRqisrExffPGFhg4dKkn68MMP5Xa7NXz48FA1PawEa1JKtNUzpLcMAIDIFNJw63K5VFBQ4Hm8e/dubdmyRenp6erVq5duu+02PfTQQ8rNzVWfPn107733qkePHpo4caIkqX///ho3bpxmzpypRYsWqa6uTnPmzNHVV19NpYT/E4zb7NGymtfx6C0DACDyhHSFsrVr1+qCCy5o9vzUqVP18ssvyzAM3X///Xr++edVVlamc889V88++6xOPfVUz75HjhzRnDlz9N5778lsNmvy5Ml6+umnZbW2PZREywplJxKopRCjbTUvAAAQnlh+1wexEG4l/w8dcLsNLVj5TeOQB0fzIQ8FpS7lZdl1z4T+3M4HAAAd0ta8FrZjbuF//r7N7kuZMW7vAwCAYCDcot0oM+a7aJt4BwBAuCHcot0oM+abaJ14BwBAOAnbFcoQ/gKxmpfbbWjXQZe27i3TroOuqFkWuGniXX6RU3ZLorK7pMhuSVR+UePz24qdoW4iAABRgS61KBLoW94tHd+fZcaitWfT7Tb01uYiHams9Zp4Z02OV06SVQWlLi3bXKwBGWkMUQAAoIMIt1Ei0MHwRMf3x2pezUqK2RpDcn6RU8VHqyK6pBgT7wAACB7CbRQIdDBsy/HvnTCg3b3G0d6zycQ7AACChzG3Ee74YGhNjlec2dQYDB1WHams1bLNxe0eu9rW40tS365WDe5pV9+uVp9CqC89m5HohxPvWsLEOwAA/IdwG+ECHQyDETw9PZuJrfds1tRFbs9mICbeAQCAlhFuI1ygg2Ewgme092yazSZNHpKl9JREFZS65KquV4PbkKu6XgWlLp8n3gEAgNYRbiNcoINhMIJnLPRsDsy0ae7oXA3KsqmsqlaFhypVVlWrvCx7RE+WAwAg3ERmVxg8moJhfpFTOUlWr6EDTcEwL8ve7mAY6ONL/+7Z9FdJsXA1MNOmARlprFAGAEAAEW4jXKCDYbCCZ1PPZkdLioU7s9lEuS8AAALIZBx/HzgGlZeXy2azyel0Ki0tLdTNaZeW6tDmOlL9FgwDffwmgV6IAgAARKa25jXCraIj3EqhWaGM4AkAAIKhrXmNYQlRJNC3vGP1ljqhHgCAyEG4BU4g0MsaAwAA/yLcAq3oyLLG9PYCABAahFugBccvO9xUAs2aHK+cJKsKSl1atrlYAzLSmoVWensBAAgdFnEAWtDeZYebenvzi5yyWxKV3SVFdkui8osan99W7AzmywAAIOYQboEWtGfZ4eN7e63J8Yozmxp7ex1WHams1bLNxXK7Y75ACdAubrehXQdd2rq3TLsOungvAWgRwxKAFvxw2WFrC0sLt7TssC+9vbFYdSKWMOba/xjuA6CtCLdAC9qz7LCnt9fWem/vgXLv3l5EH0KY/3VkcieA2MOwBKAFTcsOp6ckqqDUJVd1vRrchlzV9SoodbW47PAPe3tb0lJvL6ILY679j+E+AHxFuAVaMTDTprmjczUoy6ayqloVHqpUWVWt8rLsLfYUNfX2ljirdPzCf029vbmOVK/eXkQPQlhgtHdyJ4DYRRcScAIDM20akJHWpvGTTb29xUerPH+MLYmNt0/3lR1TckKcBmY2HosxmNGHMdeBwXAfAL4i3AL/p7VJQL4sO9zU29s05vJAuVt1DW7V1LvlNqQln+3V8i+LGYMZhQhhgdGeyZ0AYhtXA0D+nQT0w97erXvL9ObmIsWZTV49uUyEiT6EsMBoz+ROALGNMbeIeYGYBGQ2m5TdOUVfFTtVU+dmDGYMYMx1YLRncieA2Ea4RUwL5CQgJsLEFkJY4Pg6uRNAbOP+GGJaICcBMQYz9rQ05jopway8LLsmDckkhHWAL5M7AcQ2wi1iWiADKGMwYxMhLHB8mdwJIHbxVxUxLZABlIkwsYsQBgChw5hbxLRATgJiDCYAAMFHuEVMC3QAZSIMAADBZTKO766KQeXl5bLZbHI6nUpLSwt1cxACLdW5zXWk+m0SUGsLRAAAgLZpa15jzC2gwE8CYgwmAADBQbgF/g8BFACAyMeYWwAAAEQNwi0AAACiBuEWAAAAUYNwCwAAgKhBuAUAAEDUINwCAAAgahBuAQAAEDUItwAAAIgahFsAAABEDcItAAAAogbhFgAAAFGDcAsAAICoQbgFAABA1IgPdQPCgWEYkqTy8vIQtwQAAAAtacppTbmtNYRbSRUVFZKknj17hrglAAAAOJGKigrZbLZWt5uMk8XfGOB2u7Vv3z6lpqbKZDKFujl+VV5erp49e2rv3r1KS0sLdXPwA5yb8MW5CV+cm/DG+Qlf0XBuDMNQRUWFevToIbO59ZG19NxKMpvNysrKCnUzAiotLS1i/zNHO85N+OLchC/OTXjj/ISvSD83J+qxbcKEMgAAAEQNwi0AAACiBuE2yiUlJen+++9XUlJSqJuC43BuwhfnJnxxbsIb5yd8xdK5YUIZAAAAogY9twAAAIgahFsAAABEDcItAAAAogbhFgAAAFGDcBsFHnjgAZlMJq+v008/3bO9urpas2fPVufOnWW1WjV58mQdOHAghC2OXuvXr9ell16qHj16yGQy6e233/babhiG7rvvPmVkZMhisWjMmDHasWOH1z5HjhzRlClTlJaWJrvdrhkzZsjlcgXxVUSvk52fadOmNXsvjRs3zmsfzo//LVy4UGeddZZSU1PlcDg0ceJEbd++3WuftlzH9uzZowkTJqhTp05yOBy66667VF9fH8yXEnXacm5GjRrV7H1z0003ee3DuQmM5557Tnl5eZ6FGUaMGKH333/fsz1W3zeE2yhxxhlnqKSkxPP18ccfe7bdfvvteu+997R06VKtW7dO+/bt06RJk0LY2uhVWVmpwYMH65lnnmlx+2OPPaann35aixYt0saNG5WSkqKxY8equrras8+UKVP09ddfa9WqVVqxYoXWr1+vWbNmBeslRLWTnR9JGjdunNd76W9/+5vXds6P/61bt06zZ8/Wp59+qlWrVqmurk4XXXSRKisrPfuc7DrW0NCgCRMmqLa2Vp988oleeeUVvfzyy7rvvvtC8ZKiRlvOjSTNnDnT633z2GOPebZxbgInKytLjz76qL744gtt2rRJF154oS6//HJ9/fXXkmL4fWMg4t1///3G4MGDW9xWVlZmJCQkGEuXLvU89+233xqSjA0bNgSphbFJkrF8+XLPY7fbbXTv3t14/PHHPc+VlZUZSUlJxt/+9jfDMAzjm2++MSQZn3/+uWef999/3zCZTEZxcXHQ2h4Ljj8/hmEYU6dONS6//PJWv4fzExylpaWGJGPdunWGYbTtOvY///M/htlsNvbv3+/Z57nnnjPS0tKMmpqa4L6AKHb8uTEMwzj//PONW2+9tdXv4dwE1ymnnGK88MILMf2+oec2SuzYsUM9evRQ3759NWXKFO3Zs0eS9MUXX6iurk5jxozx7Hv66aerV69e2rBhQ6iaG5N2796t/fv3e50Lm82m4cOHe87Fhg0bZLfbNWzYMM8+Y8aMkdls1saNG4Pe5li0du1aORwOnXbaabr55pt1+PBhzzbOT3A4nU5JUnp6uqS2Xcc2bNigQYMGqVu3bp59xo4dq/Lyck8vFjru+HPT5NVXX1WXLl00cOBAzZs3T8eOHfNs49wER0NDg5YsWaLKykqNGDEipt838aFuADpu+PDhevnll3XaaaeppKRE8+fP13nnnadt27Zp//79SkxMlN1u9/qebt26af/+/aFpcIxq+n3/8CLS9Lhp2/79++VwOLy2x8fHKz09nfMVBOPGjdOkSZPUp08f7dy5U//5n/+p8ePHa8OGDYqLi+P8BIHb7dZtt92mc845RwMHDpSkNl3H9u/f3+J7q2kbOq6lcyNJv/jFL9S7d2/16NFDX331le6++25t375dy5Ytk8S5CbT8/HyNGDFC1dXVslqtWr58uQYMGKAtW7bE7PuGcBsFxo8f7/l3Xl6ehg8frt69e+uNN96QxWIJYcuAyHL11Vd7/j1o0CDl5eWpX79+Wrt2rUaPHh3ClsWO2bNna9u2bV7zBhAeWjs3PxxzPmjQIGVkZGj06NHauXOn+vXrF+xmxpzTTjtNW7ZskdPp1JtvvqmpU6dq3bp1oW5WSDEsIQrZ7XadeuqpKigoUPfu3VVbW6uysjKvfQ4cOKDu3buHpoExqun3ffxM1R+ei+7du6u0tNRre319vY4cOcL5CoG+ffuqS5cuKigokMT5CbQ5c+ZoxYoVWrNmjbKysjzPt+U61r179xbfW03b0DGtnZuWDB8+XJK83jecm8BJTExUTk6Ohg4dqoULF2rw4MF66qmnYvp9Q7iNQi6XSzt37lRGRoaGDh2qhIQErV692rN9+/bt2rNnj0aMGBHCVsaePn36qHv37l7nory8XBs3bvScixEjRqisrExffPGFZ58PP/xQbrfb8wcDwVNUVKTDhw8rIyNDEucnUAzD0Jw5c7R8+XJ9+OGH6tOnj9f2tlzHRowYofz8fK8PH6tWrVJaWpoGDBgQnBcShU52blqyZcsWSfJ633Bugsftdqumpia23zehntGGjvuP//gPY+3atcbu3buNf/7zn8aYMWOMLl26GKWlpYZhGMZNN91k9OrVy/jwww+NTZs2GSNGjDBGjBgR4lZHp4qKCuPLL780vvzyS0OS8eSTTxpffvml8f333xuGYRiPPvqoYbfbjXfeecf46quvjMsvv9zo06ePUVVV5TnGuHHjjB/96EfGxo0bjY8//tjIzc01rrnmmlC9pKhyovNTUVFh3HnnncaGDRuM3bt3G//4xz+MIUOGGLm5uUZ1dbXnGJwf/7v55psNm81mrF271igpKfF8HTt2zLPPya5j9fX1xsCBA42LLrrI2LJli/HBBx8YXbt2NebNmxeKlxQ1TnZuCgoKjAcffNDYtGmTsXv3buOdd94x+vbta4wcOdJzDM5N4Pz617821q1bZ+zevdv46quvjF//+teGyWQy/v73vxuGEbvvG8JtFLjqqquMjIwMIzEx0cjMzDSuuuoqo6CgwLO9qqrK+NWvfmWccsopRqdOnYwrrrjCKCkpCWGLo9eaNWsMSc2+pk6dahhGYzmwe++91+jWrZuRlJRkjB492ti+fbvXMQ4fPmxcc801htVqNdLS0ozrr7/eqKioCMGriT4nOj/Hjh0zLrroIqNr165GQkKC0bt3b2PmzJleJXIMg/MTCC2dE0nG4sWLPfu05TpWWFhojB8/3rBYLEaXLl2M//iP/zDq6uqC/Gqiy8nOzZ49e4yRI0ca6enpRlJSkpGTk2PcddddhtPp9DoO5yYwpk+fbvTu3dtITEw0unbtaowePdoTbA0jdt83JsMwjOD1EwMAAACBw5hbAAAARA3CLQAAAKIG4RYAAABRg3ALAACAqEG4BQAAQNQg3AIAACBqEG4BAAAQNQi3AAAAiBqEWwCIcCaTSW+//XZAf8aoUaN02223BfRnAIA/EG4BoI02bNiguLg4TZgwwefvzc7O1h/+8Af/N+okLr30Uo0bN67FbR999JFMJpO++uqrILcKAAKHcAsAbfTiiy/qlltu0fr167Vv375QN6dNZsyYoVWrVqmoqKjZtsWLF2vYsGHKy8sLQcsAIDAItwDQBi6XS6+//rpuvvlmTZgwQS+//HKzfd577z2dddZZSk5OVpcuXXTFFVdIaryl//333+v222+XyWSSyWSSJD3wwAM688wzvY7xhz/8QdnZ2Z7Hn3/+uX7605+qS5custlsOv/887V58+Y2t/uSSy5R165dm7XX5XJp6dKlmjFjhg4fPqxrrrlGmZmZ6tSpkwYNGqS//e1vJzxuS0Mh7Ha718/Zu3evrrzyStntdqWnp+vyyy9XYWGhZ/vatWt19tlnKyUlRXa7Xeecc46+//77Nr82AGgJ4RYA2uCNN97Q6aefrtNOO03XXnutXnrpJRmG4dm+cuVKXXHFFbr44ov15ZdfavXq1Tr77LMlScuWLVNWVpYefPBBlZSUqKSkpM0/t6KiQlOnTtXHH3+sTz/9VLm5ubr44otVUVHRpu+Pj4/Xddddp5dfftmrvUuXLlVDQ4OuueYaVVdXa+jQoVq5cqW2bdumWbNm6Ze//KU+++yzNrfzeHV1dRo7dqxSU1P10Ucf6Z///KesVqvGjRun2tpa1dfXa+LEiTr//PP11VdfacOGDZo1a5Yn+ANAe8WHugEAEAlefPFFXXvttZKkcePGyel0at26dRo1apQk6eGHH9bVV1+t+fPne75n8ODBkqT09HTFxcUpNTVV3bt39+nnXnjhhV6Pn3/+edntdq1bt06XXHJJm44xffp0Pf74417tXbx4sSZPniybzSabzaY777zTs/8tt9yi//3f/9Ubb7zhCei+ev311+V2u/XCCy94AuvixYtlt9u1du1aDRs2TE6nU5dccon69esnSerfv3+7fhYA/BA9twBwEtu3b9dnn32ma665RlJjb+hVV12lF1980bPPli1bNHr0aL//7AMHDmjmzJnKzc2VzWZTWlqaXC6X9uzZ0+ZjnH766frJT36il156SZJUUFCgjz76SDNmzJAkNTQ0aMGCBRo0aJDS09NltVr1v//7vz79jONt3bpVBQUFSk1NldVqldVqVXp6uqqrq7Vz506lp6dr2rRpGjt2rC699FI99dRTPvVoA0Br6LkFgJN48cUXVV9frx49enieMwxDSUlJ+tOf/iSbzSaLxeLzcc1ms9dQAanxdv4PTZ06VYcPH9ZTTz2l3r17KykpSSNGjFBtba1PP2vGjBm65ZZb9Mwzz2jx4sXq16+fzj//fEnS448/rqeeekp/+MMfNGjQIKWkpOi222474c8wmUwnbLvL5dLQoUP16quvNvverl27SmrsyZ07d64++OADvf7667rnnnu0atUq/fjHP/bptQHAD9FzCwAnUF9fr7/85S964okntGXLFs/X1q1b1aNHD8/Eq7y8PK1evbrV4yQmJqqhocHrua5du2r//v1eIXHLli1e+/zzn//U3LlzdfHFF+uMM85QUlKSDh065PPruPLKK2U2m/Xaa6/pL3/5i6ZPn+4ZLvDPf/5Tl19+ua699loNHjxYffv21b/+9a8THq9r165ePa07duzQsWPHPI+HDBmiHTt2yOFwKCcnx+vLZrN59vvRj36kefPm6ZNPPtHAgQP12muv+fzaAOCHCLcAcAIrVqzQ0aNHNWPGDA0cONDra/LkyZ6hCffff7/+9re/6f7779e3336r/Px8/fa3v/UcJzs7W+vXr1dxcbEnnI4aNUoHDx7UY489pp07d+qZZ57R+++/7/Xzc3Nz9d///d/69ttvtXHjRk2ZMqVdvcRWq1VXXXWV5s2bp5KSEk2bNs3rZ6xatUqffPKJvv32W9144406cODACY934YUX6k9/+pO+/PJLbdq0STfddJMSEhI826dMmaIuXbro8ssv10cffaTdu3dr7dq1mjt3roqKirR7927NmzdPGzZs0Pfff6+///3v2rFjB+NuAXQY4RYATuDFF1/UmDFjvHobm0yePFmbNm3SV199pVGjRmnp0qV69913deaZZ+rCCy/0qjbw4IMPqrCwUP369fPclu/fv7+effZZPfPMMxo8eLA+++wzr4ldTT//6NGjGjJkiH75y19q7ty5cjgc7XotM2bM0NGjRzV27FivIRb33HOPhgwZorFjx2rUqFHq3r27Jk6ceMJjPfHEE+rZs6fOO+88/eIXv9Cdd96pTp06ebZ36tRJ69evV69evTRp0iT1799fM2bMUHV1tdLS0tSpUyd99913mjx5sk499VTNmjVLs2fP1o033tiu1wYATUzG8YOmAAAAgAhFzy0AAACiBuEWAAAAUYNwCwAAgKhBuAUAAEDUINwCAAAgahBuAQAAEDUItwAAAIgahFsAAABEDcItAAAAogbhFgAAAFGDcAsAAICo8f8B429Z1tHj0LAAAAAASUVORK5CYII=\n"
                },
                "metadata": {}
              },
              {
                "output_type": "display_data",
                "data": {
                  "text/plain": "<Figure size 800x600 with 2 Axes>",
                  "image/png": "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\n"
                },
                "metadata": {}
              }
            ]
          }
        },
        "c8db0119eebf4ceea7b18cb44ec4fbe0": {
          "model_module": "@jupyter-widgets/base",
          "model_name": "LayoutModel",
          "model_module_version": "1.2.0",
          "state": {
            "_model_module": "@jupyter-widgets/base",
            "_model_module_version": "1.2.0",
            "_model_name": "LayoutModel",
            "_view_count": null,
            "_view_module": "@jupyter-widgets/base",
            "_view_module_version": "1.2.0",
            "_view_name": "LayoutView",
            "align_content": null,
            "align_items": null,
            "align_self": null,
            "border": null,
            "bottom": null,
            "display": null,
            "flex": null,
            "flex_flow": null,
            "grid_area": null,
            "grid_auto_columns": null,
            "grid_auto_flow": null,
            "grid_auto_rows": null,
            "grid_column": null,
            "grid_gap": null,
            "grid_row": null,
            "grid_template_areas": null,
            "grid_template_columns": null,
            "grid_template_rows": null,
            "height": null,
            "justify_content": null,
            "justify_items": null,
            "left": null,
            "margin": null,
            "max_height": null,
            "max_width": null,
            "min_height": null,
            "min_width": null,
            "object_fit": null,
            "object_position": null,
            "order": null,
            "overflow": null,
            "overflow_x": null,
            "overflow_y": null,
            "padding": null,
            "right": null,
            "top": null,
            "visibility": null,
            "width": null
          }
        }
      }
    }
  },
  "cells": [
    {
      "cell_type": "markdown",
      "metadata": {
        "id": "view-in-github",
        "colab_type": "text"
      },
      "source": [
        "<a href=\"https://colab.research.google.com/github/Ehtisham1053/Regression-ML-Algorithms/blob/main/Voting_ensamble_Regression.ipynb\" target=\"_parent\"><img src=\"https://colab.research.google.com/assets/colab-badge.svg\" alt=\"Open In Colab\"/></a>"
      ]
    },
    {
      "cell_type": "markdown",
      "source": [
        "## Voting Ensamble Regression"
      ],
      "metadata": {
        "id": "rvUIU1DQtbJ_"
      }
    },
    {
      "cell_type": "code",
      "execution_count": null,
      "metadata": {
        "id": "vEtYO92MrQeI"
      },
      "outputs": [],
      "source": [
        "import numpy as np\n",
        "import matplotlib.pyplot as plt\n",
        "import seaborn as sns\n",
        "from sklearn.ensemble import VotingRegressor\n",
        "from sklearn.metrics import mean_squared_error, r2_score\n",
        "from sklearn.linear_model import LinearRegression\n",
        "from sklearn.svm import SVR\n",
        "from sklearn.neighbors import KNeighborsRegressor\n",
        "from sklearn.model_selection import train_test_split\n",
        "\n",
        "# CLASS\n",
        "class VotingEnsembleRegressor:\n",
        "    def __init__(self, models):\n",
        "        \"\"\"\n",
        "        Initialize the ensemble with user-defined models.\n",
        "        \"\"\"\n",
        "        self.models = models\n",
        "        self.ensemble = None\n",
        "\n",
        "    def train(self, x_train, y_train):\n",
        "        \"\"\"\n",
        "        Train the voting ensemble with selected models.\n",
        "        \"\"\"\n",
        "        estimators = [(name, model) for name, model in self.models.items()]\n",
        "        self.ensemble = VotingRegressor(estimators=estimators)\n",
        "        self.ensemble.fit(x_train, y_train)\n",
        "\n",
        "    def evaluate(self, x_train, y_train, x_test, y_test):\n",
        "        \"\"\"\n",
        "        Compute MSE and R² scores for train and test sets.\n",
        "        \"\"\"\n",
        "        y_train_pred = self.ensemble.predict(x_train)\n",
        "        y_test_pred = self.ensemble.predict(x_test)\n",
        "\n",
        "        metrics = {\n",
        "            \"train_mse\": mean_squared_error(y_train, y_train_pred),\n",
        "            \"train_r2\": r2_score(y_train, y_train_pred),\n",
        "            \"test_mse\": mean_squared_error(y_test, y_test_pred),\n",
        "            \"test_r2\": r2_score(y_test, y_test_pred)\n",
        "        }\n",
        "        return metrics\n",
        "\n",
        "    def plot_results(self, x_test, y_test):\n",
        "        \"\"\"\n",
        "        Plot actual vs. predicted values.\n",
        "        \"\"\"\n",
        "        y_pred = self.ensemble.predict(x_test)\n",
        "        plt.scatter(y_test, y_pred, alpha=0.5)\n",
        "        plt.xlabel(\"Actual Values\")\n",
        "        plt.ylabel(\"Predicted Values\")\n",
        "        plt.title(\"Actual vs. Predicted Values\")\n",
        "        plt.plot([min(y_test), max(y_test)], [min(y_test), max(y_test)], color='red', linestyle='dashed')\n",
        "        plt.show()"
      ]
    },
    {
      "cell_type": "markdown",
      "source": [
        "## object intantiation"
      ],
      "metadata": {
        "id": "KG200eOZ3wPH"
      }
    },
    {
      "cell_type": "code",
      "source": [
        "\n",
        "df = sns.load_dataset('mpg').dropna()\n",
        "X = df[['horsepower']].values\n",
        "y = df['mpg'].values\n",
        "\n",
        "X_train, X_test, y_train, y_test = train_test_split(X, y, test_size=0.2, random_state=42)\n",
        "\n",
        "models = {\n",
        "        'svr': SVR(),\n",
        "        'knn': KNeighborsRegressor(),\n",
        "        'lr': LinearRegression()\n",
        "}\n",
        "\n",
        "ensemble = VotingEnsembleRegressor(models)\n",
        "ensemble.train(X_train, y_train)\n",
        "print(\"Evaluation Metrics:\", ensemble.evaluate(X_train, y_train, X_test, y_test))\n",
        "ensemble.plot_results(X_test, y_test)\n"
      ],
      "metadata": {
        "colab": {
          "base_uri": "https://localhost:8080/",
          "height": 509
        },
        "id": "_0nNbcCVrh-9",
        "outputId": "8d464c02-5253-455f-fc51-fb7224505ceb"
      },
      "execution_count": null,
      "outputs": [
        {
          "output_type": "stream",
          "name": "stdout",
          "text": [
            "Evaluation Metrics: {'train_mse': 16.86258799005734, 'train_r2': 0.7327629730180402, 'test_mse': 17.744342779268813, 'test_r2': 0.6523483539386843}\n"
          ]
        },
        {
          "output_type": "display_data",
          "data": {
            "text/plain": [
              "<Figure size 640x480 with 1 Axes>"
            ],
            "image/png": "[encoded data removed]"
          },
          "metadata": {}
        }
      ]
    },
    {
      "cell_type": "markdown",
      "source": [
        "## Multiple feature regressioin"
      ],
      "metadata": {
        "id": "GNq0hW0GtPz1"
      }
    },
    {
      "cell_type": "code",
      "source": [
        "import numpy as np\n",
        "import matplotlib.pyplot as plt\n",
        "import seaborn as sns\n",
        "from sklearn.ensemble import VotingRegressor\n",
        "from sklearn.metrics import mean_squared_error, r2_score\n",
        "from sklearn.linear_model import LinearRegression\n",
        "from sklearn.svm import SVR\n",
        "from sklearn.neighbors import KNeighborsRegressor\n",
        "from sklearn.model_selection import train_test_split\n",
        "\n",
        "class VotingEnsembleRegressor:\n",
        "    def __init__(self, models):\n",
        "        \"\"\"\n",
        "        Initialize the ensemble with user-defined models.\n",
        "        \"\"\"\n",
        "        self.models = models\n",
        "        self.ensemble = None\n",
        "\n",
        "    def train(self, x_train, y_train):\n",
        "        \"\"\"\n",
        "        Train the voting ensemble with selected models.\n",
        "        \"\"\"\n",
        "        estimators = [(name, model) for name, model in self.models.items()]\n",
        "        self.ensemble = VotingRegressor(estimators=estimators)\n",
        "        self.ensemble.fit(x_train, y_train)\n",
        "\n",
        "    def evaluate(self, x_train, y_train, x_test, y_test):\n",
        "        \"\"\"\n",
        "        Compute MSE and R² scores for train and test sets.\n",
        "        \"\"\"\n",
        "        y_train_pred = self.ensemble.predict(x_train)\n",
        "        y_test_pred = self.ensemble.predict(x_test)\n",
        "\n",
        "        metrics = {\n",
        "            \"train_mse\": mean_squared_error(y_train, y_train_pred),\n",
        "            \"train_r2\": r2_score(y_train, y_train_pred),\n",
        "            \"test_mse\": mean_squared_error(y_test, y_test_pred),\n",
        "            \"test_r2\": r2_score(y_test, y_test_pred)\n",
        "        }\n",
        "        return metrics\n",
        "\n",
        "    def plot_results(self, y_test, y_pred):\n",
        "        \"\"\"\n",
        "        Plot actual vs. predicted values.\n",
        "        \"\"\"\n",
        "        plt.scatter(y_test, y_pred, alpha=0.5)\n",
        "        plt.xlabel(\"Actual Values\")\n",
        "        plt.ylabel(\"Predicted Values\")\n",
        "        plt.title(\"Actual vs. Predicted Values\")\n",
        "        plt.plot([min(y_test), max(y_test)], [min(y_test), max(y_test)], color='red', linestyle='dashed')\n",
        "        plt.show()"
      ],
      "metadata": {
        "id": "gDMp4m-xs2xI"
      },
      "execution_count": null,
      "outputs": []
    },
    {
      "cell_type": "markdown",
      "source": [
        "### Object Intantiation"
      ],
      "metadata": {
        "id": "SiPovW1SvGAq"
      }
    },
    {
      "cell_type": "code",
      "source": [
        "df = sns.load_dataset('mpg').dropna()\n",
        "X = df[['horsepower', 'weight', 'displacement']].values\n",
        "y = df['mpg'].values\n",
        "\n",
        "X_train, X_test, y_train, y_test = train_test_split(X, y, test_size=0.2, random_state=42)\n",
        "\n",
        "models = {\n",
        "    'svr': SVR(),\n",
        "    'knn': KNeighborsRegressor(),\n",
        "    'lr': LinearRegression()\n",
        "}\n",
        "\n",
        "ensemble = VotingEnsembleRegressor(models)\n",
        "ensemble.train(X_train, y_train)\n",
        "print(\"Evaluation Metrics:\", ensemble.evaluate(X_train, y_train, X_test, y_test))\n",
        "y_pred = ensemble.ensemble.predict(X_test)\n",
        "ensemble.plot_results(y_test, y_pred)\n"
      ],
      "metadata": {
        "colab": {
          "base_uri": "https://localhost:8080/",
          "height": 509
        },
        "id": "0r0a-JaGunop",
        "outputId": "0b53bb97-639d-4d03-f0de-91e7831a8025"
      },
      "execution_count": null,
      "outputs": [
        {
          "output_type": "stream",
          "name": "stdout",
          "text": [
            "Evaluation Metrics: {'train_mse': 14.991210100961466, 'train_r2': 0.7624204291414199, 'test_mse': 15.693974146386557, 'test_r2': 0.692519694129813}\n"
          ]
        },
        {
          "output_type": "display_data",
          "data": {
            "text/plain": [
              "<Figure size 640x480 with 1 Axes>"
            ],
            "image/png": "[encoded data removed]"
          },
          "metadata": {}
        }
      ]
    },
    {
      "cell_type": "markdown",
      "source": [
        "# GUI"
      ],
      "metadata": {
        "id": "YK2NTMOyhKRo"
      }
    },
    {
      "cell_type": "markdown",
      "source": [],
      "metadata": {
        "id": "-6rUE3IVhS4H"
      }
    },
    {
      "cell_type": "markdown",
      "source": [
        "#### prepare the data set"
      ],
      "metadata": {
        "id": "QPyqvNsckWmc"
      }
    },
    {
      "cell_type": "code",
      "source": [
        "from sklearn.datasets import load_diabetes\n",
        "diabetes = load_diabetes()\n",
        "X, y = diabetes.data, diabetes.target"
      ],
      "metadata": {
        "id": "7qh8MasHj7De"
      },
      "execution_count": 10,
      "outputs": []
    },
    {
      "cell_type": "code",
      "source": [
        "\n",
        "scaler = StandardScaler()\n",
        "X_scaled = scaler.fit_transform(X)\n",
        "pca = PCA(n_components=2)\n",
        "X_pca = pca.fit_transform(X_scaled)\n",
        "X_train, X_test, y_train, y_test = train_test_split(X_pca, y, test_size=0.2, random_state=42)"
      ],
      "metadata": {
        "id": "AHcHkTvBjlt4"
      },
      "execution_count": 11,
      "outputs": []
    },
    {
      "cell_type": "markdown",
      "source": [
        "##Run the code\n"
      ],
      "metadata": {
        "id": "aCeWbctjkZG8"
      }
    },
    {
      "cell_type": "code",
      "source": [
        "import numpy as np\n",
        "import matplotlib.pyplot as plt\n",
        "import seaborn as sns\n",
        "import pandas as pd\n",
        "from sklearn.ensemble import VotingRegressor\n",
        "from sklearn.linear_model import LinearRegression, Ridge, Lasso, ElasticNet\n",
        "from sklearn.svm import SVR\n",
        "from sklearn.tree import DecisionTreeRegressor\n",
        "from sklearn.ensemble import RandomForestRegressor, GradientBoostingRegressor, AdaBoostRegressor, BaggingRegressor, ExtraTreesRegressor\n",
        "from sklearn.neighbors import KNeighborsRegressor\n",
        "from sklearn.neural_network import MLPRegressor\n",
        "from sklearn.metrics import mean_squared_error, r2_score\n",
        "from sklearn.preprocessing import StandardScaler\n",
        "from sklearn.decomposition import PCA\n",
        "from sklearn.datasets import fetch_california_housing\n",
        "from sklearn.model_selection import train_test_split\n",
        "import ipywidgets as widgets\n",
        "from IPython.display import display\n",
        "\n",
        "\n",
        "\n",
        "\n",
        "def get_models():\n",
        "    return {\n",
        "        'Linear Regression': LinearRegression(),\n",
        "        'Ridge': Ridge(),\n",
        "        'Lasso': Lasso(),\n",
        "        'ElasticNet': ElasticNet(),\n",
        "        'SVR': SVR(),\n",
        "        'Decision Tree': DecisionTreeRegressor(),\n",
        "        'Random Forest': RandomForestRegressor(),\n",
        "        'Gradient Boosting': GradientBoostingRegressor(),\n",
        "        'AdaBoost': AdaBoostRegressor(),\n",
        "        'Bagging': BaggingRegressor(),\n",
        "        'Extra Trees': ExtraTreesRegressor(),\n",
        "        'KNN': KNeighborsRegressor(),\n",
        "        'MLP': MLPRegressor()\n",
        "    }\n",
        "\n",
        "\n",
        "models_dict = get_models()\n",
        "model_selection_widgets = {}\n",
        "\n",
        "for model_name in models_dict.keys():\n",
        "    model_selection_widgets[model_name] = widgets.IntSlider(\n",
        "        value=0, min=0, max=5, step=1,\n",
        "        description=f'{model_name}',\n",
        "        style={'description_width': 'initial'}\n",
        "    )\n",
        "\n",
        "\n",
        "voting_type = widgets.Dropdown(\n",
        "    options=['hard', 'soft'],\n",
        "    value='hard',\n",
        "    description='Voting Type:',\n",
        "    style={'description_width': 'initial'}\n",
        ")\n",
        "\n",
        "train_button = widgets.Button(description='Train Ensemble')\n",
        "out = widgets.Output()\n",
        "\n",
        "\n",
        "def train_voting_ensemble(selected_models, X_train, y_train):\n",
        "    model_instances = []\n",
        "    for name, count in selected_models.items():\n",
        "        for i in range(count):\n",
        "            model_instances.append((f'{name}_{i+1}', models_dict[name]))\n",
        "\n",
        "    if not model_instances:\n",
        "        return None\n",
        "\n",
        "    ensemble = VotingRegressor(estimators=model_instances)\n",
        "    ensemble.fit(X_train, y_train)\n",
        "    return ensemble\n",
        "\n",
        "def plot_decision_boundary(model, X, y, title):\n",
        "    x_min, x_max = X[:, 0].min() - 1, X[:, 0].max() + 1\n",
        "    y_min, y_max = X[:, 1].min() - 1, X[:, 1].max() + 1\n",
        "    xx, yy = np.meshgrid(np.linspace(x_min, x_max, 100), np.linspace(y_min, y_max, 100))\n",
        "\n",
        "    Z = model.predict(np.c_[xx.ravel(), yy.ravel()])\n",
        "    Z = Z.reshape(xx.shape)\n",
        "\n",
        "    plt.figure(figsize=(8, 6))\n",
        "    plt.contourf(xx, yy, Z, alpha=0.3, cmap=plt.cm.jet)\n",
        "    scatter = sns.scatterplot(x=X[:, 0], y=X[:, 1], hue=y, palette='coolwarm', edgecolor='k')\n",
        "    plt.colorbar(label='Predicted Value')\n",
        "    plt.title(title)\n",
        "    plt.show()\n",
        "\n",
        "\n",
        "def on_train_clicked(b):\n",
        "    selected_models = {name: widget.value for name, widget in model_selection_widgets.items() if widget.value > 0}\n",
        "    if not selected_models:\n",
        "        with out:\n",
        "            out.clear_output()\n",
        "            print(\"Select at least one model!\")\n",
        "        return\n",
        "\n",
        "    ensemble = train_voting_ensemble(selected_models, X_train, y_train)\n",
        "    if ensemble is None:\n",
        "        return\n",
        "\n",
        "    y_train_pred = ensemble.predict(X_train)\n",
        "    y_test_pred = ensemble.predict(X_test)\n",
        "\n",
        "    train_mse = mean_squared_error(y_train, y_train_pred)\n",
        "    test_mse = mean_squared_error(y_test, y_test_pred)\n",
        "    train_r2 = r2_score(y_train, y_train_pred)\n",
        "    test_r2 = r2_score(y_test, y_test_pred)\n",
        "\n",
        "    with out:\n",
        "        out.clear_output()\n",
        "        print(\"Train MSE:\", train_mse)\n",
        "        print(\"Test MSE:\", test_mse)\n",
        "        print(\"Train R² Score:\", train_r2)\n",
        "        print(\"Test R² Score:\", test_r2)\n",
        "\n",
        "        plt.figure(figsize=(8, 6))\n",
        "        plt.scatter(y_test, y_test_pred, alpha=0.6)\n",
        "        plt.xlabel(\"Actual Values\")\n",
        "        plt.ylabel(\"Predicted Values\")\n",
        "        plt.title(\"Actual vs Predicted\")\n",
        "        plt.show()\n",
        "\n",
        "        plot_decision_boundary(ensemble, X_train, y_train, \"Decision Boundary\")\n",
        "\n",
        "train_button.on_click(on_train_clicked)\n",
        "\n",
        "\n",
        "display(*model_selection_widgets.values(), voting_type, train_button, out)"
      ],
      "metadata": {
        "colab": {
          "base_uri": "https://localhost:8080/",
          "height": 1000,
          "referenced_widgets": [
            "3309cf3d41a64bd595bc272a6a09f21f",
            "16783fd8607e4477abc6cdbe0c847480",
            "d64d8d297fe2434baa7478d01a6f5df4",
            "e75bae738d5a44f0a5462cdb1279b422",
            "fad9e036a1a94664988b512d89895785",
            "8d59c97e4153426ca0c7a32dc53be2c6",
            "6d614c4e7ed641219b85278f9eeda138",
            "73f7954e30b6499bb9782b8fde1da6f8",
            "bf6a0234e73545728b1d6b61876734a3",
            "c8f42c491e7c461cafc29db1b8ee7faf",
            "d1f10b7653284be98c05e04bf9812383",
            "c6207edd393445ea9c1d280ce2f76ced",
            "08b54045a86442d4aad8f58a9e22f135",
            "c2ed42e63d6b45eda525d8b922ffe295",
            "5ccb38c1d4224358a8fbeac4985a03e0",
            "762cdcc2e2444ecf954125189f39c6f7",
            "86f65e8d349d4bffabeac926b336b63a",
            "bffd1dff36a44c02a21d7e3047321f37",
            "9c317d3f456b41be8f90fe5d806572b6",
            "538e7487fe2245be81da0817a2d178b0",
            "d30bb7b5bce24ed6b975eee181e8c4df",
            "2f8ee2cbe4b7442693b5f542d64927b1",
            "98dc6d57c598424c955372f7ce9b36d5",
            "6f676f98d40a454e96588ebbf44e10c6",
            "2cff5d97a16349e9a18ed2d5ed4eeaa0",
            "93697169683244e8b0162ce776b2013a",
            "380c67fbb1ea461f86ef256eda7d88a2",
            "7429aa778c0c449bb01d81e5f0c18cd5",
            "1065e981ce024fcbb5393410f0f4f936",
            "76ed3a5e9c314f78aa6a3214b18749df",
            "992fa55f4b964676ab65069b70d56590",
            "bdf68524f2fb4e14a0afcfdfe88a598a",
            "fed229309bdb42eaae7eba912df2c1c0",
            "6643afb0326046f58fb39d81e2761b17",
            "eb1e51d84f9d48b7bd1df38f7dd07e93",
            "d4219f9f4b814208a0651728607a71f0",
            "061df62ac6a344199a1a906653574686",
            "f8ef16771e74435d85a28c54b4156a35",
            "c1108f9cf1f145359bab08afe4964891",
            "47df0ebf157a41c29b14a1ed5d2da10d",
            "b89cc351c3904c8a9df067b3a7500bf3",
            "f6ee00881424422aa9910ed6d0cad393",
            "29f0d14d0c674404a2396b6b128f9f7b",
            "c4bbd7d9251d44b3a8ed3b024c093fa0",
            "e2516186c6844eefb62bccce4516e98d",
            "8014eb0f31e3411ab68dca40cefa93f2",
            "c8db0119eebf4ceea7b18cb44ec4fbe0"
          ]
        },
        "id": "fseWfLDyi0It",
        "outputId": "ab021ee2-f030-4e07-d05a-ed30f428bee1"
      },
      "execution_count": 12,
      "outputs": [
        {
          "output_type": "display_data",
          "data": {
            "text/plain": [
              "IntSlider(value=0, description='Linear Regression', max=5, style=SliderStyle(description_width='initial'))"
            ],
            "application/vnd.jupyter.widget-view+json": {
              "version_major": 2,
              "version_minor": 0,
              "model_id": "3309cf3d41a64bd595bc272a6a09f21f"
            }
          },
          "metadata": {}
        },
        {
          "output_type": "display_data",
          "data": {
            "text/plain": [
              "IntSlider(value=0, description='Ridge', max=5, style=SliderStyle(description_width='initial'))"
            ],
            "application/vnd.jupyter.widget-view+json": {
              "version_major": 2,
              "version_minor": 0,
              "model_id": "e75bae738d5a44f0a5462cdb1279b422"
            }
          },
          "metadata": {}
        },
        {
          "output_type": "display_data",
          "data": {
            "text/plain": [
              "IntSlider(value=0, description='Lasso', max=5, style=SliderStyle(description_width='initial'))"
            ],
            "application/vnd.jupyter.widget-view+json": {
              "version_major": 2,
              "version_minor": 0,
              "model_id": "6d614c4e7ed641219b85278f9eeda138"
            }
          },
          "metadata": {}
        },
        {
          "output_type": "display_data",
          "data": {
            "text/plain": [
              "IntSlider(value=0, description='ElasticNet', max=5, style=SliderStyle(description_width='initial'))"
            ],
            "application/vnd.jupyter.widget-view+json": {
              "version_major": 2,
              "version_minor": 0,
              "model_id": "c8f42c491e7c461cafc29db1b8ee7faf"
            }
          },
          "metadata": {}
        },
        {
          "output_type": "display_data",
          "data": {
            "text/plain": [
              "IntSlider(value=0, description='SVR', max=5, style=SliderStyle(description_width='initial'))"
            ],
            "application/vnd.jupyter.widget-view+json": {
              "version_major": 2,
              "version_minor": 0,
              "model_id": "08b54045a86442d4aad8f58a9e22f135"
            }
          },
          "metadata": {}
        },
        {
          "output_type": "display_data",
          "data": {
            "text/plain": [
              "IntSlider(value=0, description='Decision Tree', max=5, style=SliderStyle(description_width='initial'))"
            ],
            "application/vnd.jupyter.widget-view+json": {
              "version_major": 2,
              "version_minor": 0,
              "model_id": "762cdcc2e2444ecf954125189f39c6f7"
            }
          },
          "metadata": {}
        },
        {
          "output_type": "display_data",
          "data": {
            "text/plain": [
              "IntSlider(value=0, description='Random Forest', max=5, style=SliderStyle(description_width='initial'))"
            ],
            "application/vnd.jupyter.widget-view+json": {
              "version_major": 2,
              "version_minor": 0,
              "model_id": "9c317d3f456b41be8f90fe5d806572b6"
            }
          },
          "metadata": {}
        },
        {
          "output_type": "display_data",
          "data": {
            "text/plain": [
              "IntSlider(value=0, description='Gradient Boosting', max=5, style=SliderStyle(description_width='initial'))"
            ],
            "application/vnd.jupyter.widget-view+json": {
              "version_major": 2,
              "version_minor": 0,
              "model_id": "2f8ee2cbe4b7442693b5f542d64927b1"
            }
          },
          "metadata": {}
        },
        {
          "output_type": "display_data",
          "data": {
            "text/plain": [
              "IntSlider(value=0, description='AdaBoost', max=5, style=SliderStyle(description_width='initial'))"
            ],
            "application/vnd.jupyter.widget-view+json": {
              "version_major": 2,
              "version_minor": 0,
              "model_id": "2cff5d97a16349e9a18ed2d5ed4eeaa0"
            }
          },
          "metadata": {}
        },
        {
          "output_type": "display_data",
          "data": {
            "text/plain": [
              "IntSlider(value=0, description='Bagging', max=5, style=SliderStyle(description_width='initial'))"
            ],
            "application/vnd.jupyter.widget-view+json": {
              "version_major": 2,
              "version_minor": 0,
              "model_id": "7429aa778c0c449bb01d81e5f0c18cd5"
            }
          },
          "metadata": {}
        },
        {
          "output_type": "display_data",
          "data": {
            "text/plain": [
              "IntSlider(value=0, description='Extra Trees', max=5, style=SliderStyle(description_width='initial'))"
            ],
            "application/vnd.jupyter.widget-view+json": {
              "version_major": 2,
              "version_minor": 0,
              "model_id": "992fa55f4b964676ab65069b70d56590"
            }
          },
          "metadata": {}
        },
        {
          "output_type": "display_data",
          "data": {
            "text/plain": [
              "IntSlider(value=0, description='KNN', max=5, style=SliderStyle(description_width='initial'))"
            ],
            "application/vnd.jupyter.widget-view+json": {
              "version_major": 2,
              "version_minor": 0,
              "model_id": "6643afb0326046f58fb39d81e2761b17"
            }
          },
          "metadata": {}
        },
        {
          "output_type": "display_data",
          "data": {
            "text/plain": [
              "IntSlider(value=0, description='MLP', max=5, style=SliderStyle(description_width='initial'))"
            ],
            "application/vnd.jupyter.widget-view+json": {
              "version_major": 2,
              "version_minor": 0,
              "model_id": "061df62ac6a344199a1a906653574686"
            }
          },
          "metadata": {}
        },
        {
          "output_type": "display_data",
          "data": {
            "text/plain": [
              "Dropdown(description='Voting Type:', options=('hard', 'soft'), style=DescriptionStyle(description_width='initi…"
            ],
            "application/vnd.jupyter.widget-view+json": {
              "version_major": 2,
              "version_minor": 0,
              "model_id": "47df0ebf157a41c29b14a1ed5d2da10d"
            }
          },
          "metadata": {}
        },
        {
          "output_type": "display_data",
          "data": {
            "text/plain": [
              "Button(description='Train Ensemble', style=ButtonStyle())"
            ],
            "application/vnd.jupyter.widget-view+json": {
              "version_major": 2,
              "version_minor": 0,
              "model_id": "29f0d14d0c674404a2396b6b128f9f7b"
            }
          },
          "metadata": {}
        },
        {
          "output_type": "display_data",
          "data": {
            "text/plain": [
              "Output()"
            ],
            "application/vnd.jupyter.widget-view+json": {
              "version_major": 2,
              "version_minor": 0,
              "model_id": "8014eb0f31e3411ab68dca40cefa93f2"
            }
          },
          "metadata": {}
        }
      ]
    },
    {
      "cell_type": "code",
      "source": [],
      "metadata": {
        "id": "yUNj73kTi0pj"
      },
      "execution_count": null,
      "outputs": []
    }
  ]
}