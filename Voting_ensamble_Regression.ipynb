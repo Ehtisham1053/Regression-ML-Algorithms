{
  "nbformat": 4,
  "nbformat_minor": 0,
  "metadata": {
    "colab": {
      "provenance": [],
      "authorship_tag": "ABX9TyOBQo2mtpMYqIUHj/gQqJ9+",
      "include_colab_link": true
    },
    "kernelspec": {
      "name": "python3",
      "display_name": "Python 3"
    },
    "language_info": {
      "name": "python"
    }
  },
  "cells": [
    {
      "cell_type": "markdown",
      "metadata": {
        "id": "view-in-github",
        "colab_type": "text"
      },
      "source": [
        "<a href=\"https://colab.research.google.com/github/Ehtisham1053/Regression-ML-Algorithms/blob/main/Voting_ensamble_Regression.ipynb\" target=\"_parent\"><img src=\"https://colab.research.google.com/assets/colab-badge.svg\" alt=\"Open In Colab\"/></a>"
      ]
    },
    {
      "cell_type": "code",
      "execution_count": 1,
      "metadata": {
        "id": "vEtYO92MrQeI"
      },
      "outputs": [],
      "source": [
        "import numpy as np\n",
        "import matplotlib.pyplot as plt\n",
        "import seaborn as sns\n",
        "from sklearn.ensemble import VotingRegressor\n",
        "from sklearn.metrics import mean_squared_error, r2_score\n",
        "from sklearn.linear_model import LinearRegression\n",
        "from sklearn.svm import SVR\n",
        "from sklearn.neighbors import KNeighborsRegressor\n",
        "from sklearn.model_selection import train_test_split\n",
        "\n",
        "class VotingEnsembleRegressor:\n",
        "    def __init__(self, models):\n",
        "        \"\"\"\n",
        "        Initialize the ensemble with user-defined models.\n",
        "        \"\"\"\n",
        "        self.models = models\n",
        "        self.ensemble = None\n",
        "\n",
        "    def train(self, x_train, y_train):\n",
        "        \"\"\"\n",
        "        Train the voting ensemble with selected models.\n",
        "        \"\"\"\n",
        "        estimators = [(name, model) for name, model in self.models.items()]\n",
        "        self.ensemble = VotingRegressor(estimators=estimators)\n",
        "        self.ensemble.fit(x_train, y_train)\n",
        "\n",
        "    def evaluate(self, x_train, y_train, x_test, y_test):\n",
        "        \"\"\"\n",
        "        Compute MSE and R² scores for train and test sets.\n",
        "        \"\"\"\n",
        "        y_train_pred = self.ensemble.predict(x_train)\n",
        "        y_test_pred = self.ensemble.predict(x_test)\n",
        "\n",
        "        metrics = {\n",
        "            \"train_mse\": mean_squared_error(y_train, y_train_pred),\n",
        "            \"train_r2\": r2_score(y_train, y_train_pred),\n",
        "            \"test_mse\": mean_squared_error(y_test, y_test_pred),\n",
        "            \"test_r2\": r2_score(y_test, y_test_pred)\n",
        "        }\n",
        "        return metrics\n",
        "\n",
        "    def plot_results(self, x_test, y_test):\n",
        "        \"\"\"\n",
        "        Plot actual vs. predicted values.\n",
        "        \"\"\"\n",
        "        y_pred = self.ensemble.predict(x_test)\n",
        "        plt.scatter(y_test, y_pred, alpha=0.5)\n",
        "        plt.xlabel(\"Actual Values\")\n",
        "        plt.ylabel(\"Predicted Values\")\n",
        "        plt.title(\"Actual vs. Predicted Values\")\n",
        "        plt.plot([min(y_test), max(y_test)], [min(y_test), max(y_test)], color='red', linestyle='dashed')\n",
        "        plt.show()"
      ]
    },
    {
      "cell_type": "code",
      "source": [
        "\n",
        "    df = sns.load_dataset(\"diamonds\").dropna()\n",
        "    X = df[['carat', 'depth', 'table', 'x', 'y', 'z']].values\n",
        "    y = df['price'].values\n",
        "\n",
        "    X_train, X_test, y_train, y_test = train_test_split(X, y, test_size=0.2, random_state=42)\n",
        "\n",
        "    print(\"Seaborn Regression Dataset Example:\")\n",
        "    ensemble_regressor = VotingEnsembleRegressor()\n",
        "    ensemble_regressor.train(X_train, y_train, ['svr_rbf',  'mlp'])\n",
        "\n",
        "    print(\"Train Evaluation:\")\n",
        "    mse_train, r2_train = ensemble_regressor.evaluate(X_train, y_train)\n",
        "    print(f\"Train MSE: {mse_train}\")\n",
        "    print(f\"Train R2 Score: {r2_train}\")\n",
        "\n",
        "    print(\"Test Evaluation:\")\n",
        "    mse_test, r2_test = ensemble_regressor.evaluate(X_test, y_test)\n",
        "    print(f\"Test MSE: {mse_test}\")\n",
        "    print(f\"Test R2 Score: {r2_test}\")\n",
        "\n",
        "    ensemble_regressor.plot_predictions(X_test, y_test)"
      ],
      "metadata": {
        "colab": {
          "base_uri": "https://localhost:8080/"
        },
        "id": "_0nNbcCVrh-9",
        "outputId": "33cdf4bb-e090-4223-f5b3-a1381ec7e745"
      },
      "execution_count": null,
      "outputs": [
        {
          "output_type": "stream",
          "name": "stdout",
          "text": [
            "Seaborn Regression Dataset Example:\n"
          ]
        }
      ]
    }
  ]
}