{
  "nbformat": 4,
  "nbformat_minor": 0,
  "metadata": {
    "colab": {
      "provenance": [],
      "authorship_tag": "ABX9TyPdlbKsDKQLR0PxeuZp5s5K",
      "include_colab_link": true
    },
    "kernelspec": {
      "name": "python3",
      "display_name": "Python 3"
    },
    "language_info": {
      "name": "python"
    }
  },
  "cells": [
    {
      "cell_type": "markdown",
      "metadata": {
        "id": "view-in-github",
        "colab_type": "text"
      },
      "source": [
        "<a href=\"https://colab.research.google.com/github/Ehtisham1053/Regression-ML-Algorithms/blob/main/Decision_tree_uisng_entropy.ipynb\" target=\"_parent\"><img src=\"https://colab.research.google.com/assets/colab-badge.svg\" alt=\"Open In Colab\"/></a>"
      ]
    },
    {
      "cell_type": "code",
      "execution_count": null,
      "metadata": {
        "id": "FjJenZ2D_YzO"
      },
      "outputs": [],
      "source": [
        "import numpy as np\n",
        "import pandas as pd\n",
        "import seaborn as sns\n",
        "import matplotlib.pyplot as plt\n",
        "from sklearn.tree import DecisionTreeRegressor, plot_tree\n",
        "from sklearn.model_selection import train_test_split, cross_val_score\n",
        "from sklearn.metrics import mean_squared_error, r2_score\n",
        "from sklearn.datasets import load_diabetes\n",
        "\n",
        "# Load Diabetes dataset\n",
        "data = load_diabetes()\n",
        "df = pd.DataFrame(data.data, columns=data.feature_names)\n",
        "df['target'] = data.target\n",
        "\n",
        "# Split dataset\n",
        "X = df.drop(columns=['target'])\n",
        "y = df['target']\n",
        "X_train, X_test, y_train, y_test = train_test_split(X, y, test_size=0.2, random_state=42)\n",
        "\n",
        "class DecisionTreeRegressionEntropy:\n",
        "    def __init__(self, max_depth=None, min_samples_split=2, min_samples_leaf=1):\n",
        "        self.model = DecisionTreeRegressor(criterion='squared_error',\n",
        "                                           max_depth=max_depth,\n",
        "                                           min_samples_split=min_samples_split,\n",
        "                                           min_samples_leaf=min_samples_leaf,\n",
        "                                           random_state=42)\n",
        "\n",
        "    def train(self, X_train, y_train):\n",
        "        self.model.fit(X_train, y_train)\n",
        "\n",
        "    def evaluate(self, X_test, y_test):\n",
        "        y_pred = self.model.predict(X_test)\n",
        "        mse = mean_squared_error(y_test, y_pred)\n",
        "        r2 = r2_score(y_test, y_pred)\n",
        "        print(f\"MSE: {mse:.4f}, R^2 Score: {r2:.4f}\")\n",
        "\n",
        "    def plot_tree(self, feature_names):\n",
        "        plt.figure(figsize=(12, 8))\n",
        "        plot_tree(self.model, feature_names=feature_names, filled=True)\n",
        "        plt.title('Decision Tree Regression (Entropy)')\n",
        "        plt.show()\n",
        "\n",
        "# Train and Evaluate Model\n",
        "entropy_model = DecisionTreeRegressionEntropy(max_depth=5, min_samples_split=10, min_samples_leaf=5)\n",
        "entropy_model.train(X_train, y_train)\n",
        "print(\"Decision Tree Regression using Entropy\")\n",
        "entropy_model.evaluate(X_test, y_test)\n",
        "entropy_model.plot_tree(X.columns)\n"
      ]
    }
  ]
}