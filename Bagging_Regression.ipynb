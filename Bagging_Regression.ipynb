{
  "nbformat": 4,
  "nbformat_minor": 0,
  "metadata": {
    "colab": {
      "provenance": [],
      "authorship_tag": "ABX9TyOIVuk8IX7q6kjlNdm3slfs",
      "include_colab_link": true
    },
    "kernelspec": {
      "name": "python3",
      "display_name": "Python 3"
    },
    "language_info": {
      "name": "python"
    }
  },
  "cells": [
    {
      "cell_type": "markdown",
      "metadata": {
        "id": "view-in-github",
        "colab_type": "text"
      },
      "source": [
        "<a href=\"https://colab.research.google.com/github/Ehtisham1053/Regression-ML-Algorithms/blob/main/Bagging_Regression.ipynb\" target=\"_parent\"><img src=\"https://colab.research.google.com/assets/colab-badge.svg\" alt=\"Open In Colab\"/></a>"
      ]
    },
    {
      "cell_type": "code",
      "execution_count": null,
      "metadata": {
        "id": "E3UeEQV5f6w2"
      },
      "outputs": [],
      "source": [
        "import numpy as np\n",
        "import matplotlib.pyplot as plt\n",
        "import seaborn as sns\n",
        "from sklearn.model_selection import train_test_split\n",
        "from sklearn.tree import DecisionTreeRegressor\n",
        "from sklearn.metrics import mean_absolute_error, mean_squared_error, r2_score\n",
        "from sklearn.decomposition import PCA"
      ]
    },
    {
      "cell_type": "code",
      "source": [
        "class BaggingRegressor:\n",
        "    def __init__(self, n_estimators=10, sample_size=0.8, max_depth=None):\n",
        "        self.n_estimators = n_estimators\n",
        "        self.sample_size = sample_size\n",
        "        self.max_depth = max_depth\n",
        "        self.models = []\n",
        "        self.subsets = []\n",
        "\n",
        "    def fit(self, X, y):\n",
        "        self.models = []\n",
        "        self.subsets = []\n",
        "        n_samples = int(self.sample_size * len(X))\n",
        "\n",
        "        for _ in range(self.n_estimators):\n",
        "            indices = np.random.choice(len(X), n_samples, replace=True)\n",
        "            X_subset, y_subset = X[indices], y[indices]\n",
        "            model = DecisionTreeRegressor(max_depth=self.max_depth)\n",
        "            model.fit(X_subset, y_subset)\n",
        "            self.models.append(model)\n",
        "            self.subsets.append(indices)\n",
        "\n",
        "    def predict(self, X):\n",
        "        predictions = np.array([model.predict(X) for model in self.models])\n",
        "        return np.mean(predictions, axis=0)\n",
        "\n",
        "    def evaluate(self, X_train, y_train, X_test, y_test):\n",
        "        y_train_pred = self.predict(X_train)\n",
        "        y_test_pred = self.predict(X_test)\n",
        "\n",
        "\n",
        "        train_mae = mean_absolute_error(y_train, y_train_pred)\n",
        "        test_mae = mean_absolute_error(y_test, y_test_pred)\n",
        "        train_mse = mean_squared_error(y_train, y_train_pred)\n",
        "        test_mse = mean_squared_error(y_test, y_test_pred)\n",
        "        train_rmse = np.sqrt(train_mse)\n",
        "        test_rmse = np.sqrt(test_mse)\n",
        "        train_r2 = r2_score(y_train, y_train_pred)\n",
        "        test_r2 = r2_score(y_test, y_test_pred)\n",
        "\n",
        "        print(\"Training Metrics:\")\n",
        "        print(f\"MAE: {train_mae:.4f}, MSE: {train_mse:.4f}, RMSE: {train_rmse:.4f}, R²: {train_r2:.4f}\")\n",
        "        print(\"\\nTesting Metrics:\")\n",
        "        print(f\"MAE: {test_mae:.4f}, MSE: {test_mse:.4f}, RMSE: {test_rmse:.4f}, R²: {test_r2:.4f}\")\n",
        "\n",
        "        return train_mae, test_mae, train_mse, test_mse, train_rmse, test_rmse, train_r2, test_r2\n",
        "\n"
      ],
      "metadata": {
        "id": "-LBMR76pgG6O"
      },
      "execution_count": null,
      "outputs": []
    },
    {
      "cell_type": "code",
      "source": [
        "# Load Regression Dataset from seaborn\n",
        "data = sns.load_dataset(\"penguins\").dropna()\n",
        "X = data.drop(columns=['body_mass_g']).select_dtypes(include=[np.number]).values  # Features\n",
        "y = data['body_mass_g'].values  # Target (Continuous)\n",
        "\n",
        "# Split dataset into training and testing sets\n",
        "X_train, X_test, y_train, y_test = train_test_split(X, y, test_size=0.2, random_state=42)\n",
        "\n",
        "# Train and Evaluate Bagging Regressor\n",
        "bagging_reg = BaggingRegressor(n_estimators=10, sample_size=0.8, max_depth=3)\n",
        "bagging_reg.fit(X_train, y_train)\n",
        "bagging_reg.evaluate(X_train, y_train, X_test, y_test)\n",
        "\n",
        "# Reduce Features to 2 for Decision Boundary Plotting\n",
        "pca = PCA(n_components=2)\n",
        "X_train_pca = pca.fit_transform(X_train)\n",
        "X_test_pca = pca.transform(X_test)\n",
        "X_pca = pca.transform(X)\n",
        "\n",
        "# Generate Grid for Decision Boundary\n",
        "xx, yy = np.meshgrid(np.linspace(X_pca[:,0].min()-1, X_pca[:,0].max()+1, 100),\n",
        "                     np.linspace(X_pca[:,1].min()-1, X_pca[:,1].max()+1, 100))\n",
        "Z = bagging_reg.predict(pca.inverse_transform(np.c_[xx.ravel(), yy.ravel()]))\n",
        "Z = Z.reshape(xx.shape)\n",
        "\n",
        "# Plot Decision Boundary\n",
        "plt.figure(figsize=(8,6))\n",
        "plt.contourf(xx, yy, Z, alpha=0.3, cmap='coolwarm')\n",
        "scatter = sns.scatterplot(x=X_pca[:,0], y=X_pca[:,1], hue=y, palette='coolwarm', edgecolor='k')\n",
        "plt.xlabel(\"PCA Component 1\")\n",
        "plt.ylabel(\"PCA Component 2\")\n",
        "plt.title(\"Decision Boundary of Bagging Regressor\")\n",
        "plt.colorbar(scatter.collections[0])\n",
        "plt.show()"
      ],
      "metadata": {
        "id": "RwXBccawgqaX"
      },
      "execution_count": null,
      "outputs": []
    }
  ]
}