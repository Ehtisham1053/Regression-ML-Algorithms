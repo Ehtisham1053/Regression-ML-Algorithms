{
  "nbformat": 4,
  "nbformat_minor": 0,
  "metadata": {
    "colab": {
      "provenance": [],
      "authorship_tag": "ABX9TyPOqK+53kFy/BR7Ebk2el5R",
      "include_colab_link": true
    },
    "kernelspec": {
      "name": "python3",
      "display_name": "Python 3"
    },
    "language_info": {
      "name": "python"
    }
  },
  "cells": [
    {
      "cell_type": "markdown",
      "metadata": {
        "id": "view-in-github",
        "colab_type": "text"
      },
      "source": [
        "<a href=\"https://colab.research.google.com/github/Ehtisham1053/Regression-ML-Algorithms/blob/main/Lasso_regression.ipynb\" target=\"_parent\"><img src=\"https://colab.research.google.com/assets/colab-badge.svg\" alt=\"Open In Colab\"/></a>"
      ]
    },
    {
      "cell_type": "code",
      "execution_count": 14,
      "metadata": {
        "id": "N9kV6O5pFBqK"
      },
      "outputs": [],
      "source": [
        "import pandas as pd\n",
        "import matplotlib.pyplot as plt\n",
        "from sklearn.compose import ColumnTransformer\n",
        "from sklearn.preprocessing import OneHotEncoder,StandardScaler\n",
        "from  sklearn.metrics import r2_score\n",
        "import numpy as np\n",
        "from sklearn.metrics import mean_squared_error\n",
        "from sklearn.linear_model import Lasso"
      ]
    },
    {
      "cell_type": "code",
      "source": [
        "df = pd.read_csv(\"audi.csv\")\n",
        "df.isnull().sum().sum() # no  null value\n",
        "\n",
        "x = df.drop(\"price\",axis=1)\n",
        "y = df[\"price\"]\n",
        "\n",
        "from sklearn.model_selection import train_test_split\n",
        "x_train,x_test,y_train,y_test = train_test_split(x,y,test_size=0.2,random_state=0)\n",
        "\n",
        "\n",
        "c = ColumnTransformer(transformers = [\n",
        "    (\"cat\" , OneHotEncoder(handle_unknown='ignore' , sparse_output=False , drop='first') , ['model' ,'transmission', 'fuelType']),\n",
        "    (\"num\" , StandardScaler() , ['year' , 'mileage' , 'mpg' , 'engineSize', 'tax'])\n",
        "] ,\n",
        "                      remainder = \"passthrough\")\n",
        "\n",
        "\n",
        "x_train = c.fit_transform(x_train)\n",
        "x_test = c.transform(x_test)"
      ],
      "metadata": {
        "id": "mx3E9H44GBor"
      },
      "execution_count": 15,
      "outputs": []
    },
    {
      "cell_type": "code",
      "source": [
        "y_train = y_train.to_numpy()\n",
        "y_test = y_test.to_numpy()"
      ],
      "metadata": {
        "id": "_R_KeNu0GIHa"
      },
      "execution_count": 16,
      "outputs": []
    },
    {
      "cell_type": "code",
      "source": [
        "# 1. Closed-Form Solution for Lasso Regression (Using Coordinate Descent)\n",
        "class LassoClosedForm:\n",
        "    def __init__(self, alpha=1.0, max_iter=1000):\n",
        "        self.alpha = alpha\n",
        "        self.max_iter = max_iter\n",
        "        self.m = None\n",
        "        self.b = None\n",
        "\n",
        "    def fit(self, X, y):\n",
        "        n, d = X.shape\n",
        "        self.m = np.zeros(d)\n",
        "        self.b = 0\n",
        "\n",
        "        for _ in range(self.max_iter):\n",
        "            for j in range(d):\n",
        "                X_j = X[:, j]\n",
        "                residual = y - (np.dot(X, self.m) + self.b) + self.m[j] * X_j\n",
        "                rho_j = np.dot(X_j, residual)\n",
        "\n",
        "                if rho_j < -self.alpha:\n",
        "                    self.m[j] = (rho_j + self.alpha) / np.dot(X_j, X_j)\n",
        "                elif rho_j > self.alpha:\n",
        "                    self.m[j] = (rho_j - self.alpha) / np.dot(X_j, X_j)\n",
        "                else:\n",
        "                    self.m[j] = 0\n",
        "\n",
        "            self.b = np.mean(y - np.dot(X, self.m))\n",
        "\n",
        "    def predict(self, X):\n",
        "        return np.dot(X, self.m) + self.b\n",
        "\n",
        "    def evaluate(self, X, y):\n",
        "        y_pred = self.predict(X)\n",
        "        return {\n",
        "            'MSE': mean_squared_error(y, y_pred),\n",
        "            'R2 Score': r2_score(y, y_pred)}"
      ],
      "metadata": {
        "id": "oq-2hX2cGPs2"
      },
      "execution_count": 18,
      "outputs": []
    },
    {
      "cell_type": "code",
      "source": [
        "# Instantiate and train the closed-form Lasso Regression model\n",
        "lasso_closed_form = LassoClosedForm(alpha=0.1)  # Set regularization strength\n",
        "lasso_closed_form.fit(x_train, y_train)\n",
        "\n",
        "# Make predictions\n",
        "y_pred_closed_form = lasso_closed_form.predict(x_test)\n",
        "\n",
        "# Evaluate model performance\n",
        "metrics_closed_form = lasso_closed_form.evaluate(x_test, y_test)\n",
        "print(\"Closed-Form Lasso Regression Metrics:\", metrics_closed_form)\n"
      ],
      "metadata": {
        "colab": {
          "base_uri": "https://localhost:8080/"
        },
        "id": "COijkcu0Gz7a",
        "outputId": "b6d71018-ce74-447f-c0ee-663212fd8c83"
      },
      "execution_count": 19,
      "outputs": [
        {
          "output_type": "stream",
          "name": "stdout",
          "text": [
            "Closed-Form Lasso Regression Metrics: {'MSE': 15208450.188040303, 'R2 Score': 0.8893254873055525}\n"
          ]
        }
      ]
    },
    {
      "cell_type": "code",
      "source": [
        "class LassoGradientDescent:\n",
        "    def __init__(self, alpha=1.0, learning_rate=0.01, epochs=1000):\n",
        "        self.alpha = alpha\n",
        "        self.learning_rate = learning_rate\n",
        "        self.epochs = epochs\n",
        "        self.m = None\n",
        "        self.b = None\n",
        "\n",
        "    def fit(self, X, y):\n",
        "        n, d = X.shape\n",
        "        self.m = np.zeros(d)\n",
        "        self.b = 0\n",
        "\n",
        "        for _ in range(self.epochs):\n",
        "            y_pred = np.dot(X, self.m) + self.b\n",
        "            error = y_pred - y\n",
        "\n",
        "            gradient_m = (2/n) * np.dot(X.T, error) + self.alpha * np.sign(self.m)\n",
        "            gradient_b = (2/n) * np.sum(error)\n",
        "\n",
        "            self.m -= self.learning_rate * gradient_m\n",
        "            self.b -= self.learning_rate * gradient_b\n",
        "\n",
        "    def predict(self, X):\n",
        "        return np.dot(X, self.m) + self.b\n",
        "\n",
        "    def evaluate(self, X, y):\n",
        "        y_pred = self.predict(X)\n",
        "        return {\n",
        "            'MSE': mean_squared_error(y, y_pred),\n",
        "            'R2 Score': r2_score(y, y_pred)\n",
        "        }\n"
      ],
      "metadata": {
        "id": "06QUXK76GRX2"
      },
      "execution_count": 20,
      "outputs": []
    },
    {
      "cell_type": "code",
      "source": [
        "lasso_gd = LassoGradientDescent(alpha=0.1, learning_rate=0.1, epochs=10000)\n",
        "lasso_gd.fit(x_train, y_train)\n",
        "\n",
        "y_pred_gd = lasso_gd.predict(x_test)\n",
        "\n",
        "metrics_gd = lasso_gd.evaluate(x_test, y_test)\n",
        "print(\"Gradient Descent Lasso Regression Metrics:\", metrics_gd)\n"
      ],
      "metadata": {
        "colab": {
          "base_uri": "https://localhost:8080/"
        },
        "id": "wUG_Z4rGHUUb",
        "outputId": "283ece09-79be-48a8-e017-296a1a7ef726"
      },
      "execution_count": 23,
      "outputs": [
        {
          "output_type": "stream",
          "name": "stdout",
          "text": [
            "Gradient Descent Lasso Regression Metrics: {'MSE': 15166647.139076408, 'R2 Score': 0.889629695296243}\n"
          ]
        }
      ]
    },
    {
      "cell_type": "code",
      "source": [
        "class SklearnLasso:\n",
        "    def __init__(self, alpha=1.0):\n",
        "        self.model = Lasso(alpha=alpha)\n",
        "\n",
        "    def fit(self, X, y):\n",
        "        self.model.fit(X, y)\n",
        "\n",
        "    def predict(self, X):\n",
        "        return self.model.predict(X)\n",
        "\n",
        "    def evaluate(self, X, y):\n",
        "        y_pred = self.predict(X)\n",
        "        return {\n",
        "            'MSE': mean_squared_error(y, y_pred),\n",
        "            'R2 Score': r2_score(y, y_pred)\n",
        "        }\n"
      ],
      "metadata": {
        "id": "YF_5jXQPGnzp"
      },
      "execution_count": 25,
      "outputs": []
    },
    {
      "cell_type": "code",
      "source": [
        "\n",
        "lasso_sklearn = SklearnLasso(alpha=0.1)\n",
        "lasso_sklearn.fit(x_train, y_train)\n",
        "\n",
        "y_pred_sklearn = lasso_sklearn.predict(x_test)\n",
        "\n",
        "metrics_sklearn = lasso_sklearn.evaluate(x_test, y_test)\n",
        "print(\"Sklearn Lasso Regression Metrics:\", metrics_sklearn)\n"
      ],
      "metadata": {
        "colab": {
          "base_uri": "https://localhost:8080/"
        },
        "id": "NNLFW-kiHfPc",
        "outputId": "65c7a63d-718a-42ff-9e53-3bd2527a1288"
      },
      "execution_count": 26,
      "outputs": [
        {
          "output_type": "stream",
          "name": "stdout",
          "text": [
            "Sklearn Lasso Regression Metrics: {'MSE': 15207917.419344299, 'R2 Score': 0.8893293643551584}\n"
          ]
        }
      ]
    }
  ]
}