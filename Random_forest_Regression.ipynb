{
  "nbformat": 4,
  "nbformat_minor": 0,
  "metadata": {
    "colab": {
      "provenance": [],
      "authorship_tag": "ABX9TyMkogQwaa9DffIYB1dxjbWp",
      "include_colab_link": true
    },
    "kernelspec": {
      "name": "python3",
      "display_name": "Python 3"
    },
    "language_info": {
      "name": "python"
    }
  },
  "cells": [
    {
      "cell_type": "markdown",
      "metadata": {
        "id": "view-in-github",
        "colab_type": "text"
      },
      "source": [
        "<a href=\"https://colab.research.google.com/github/Ehtisham1053/Regression-ML-Algorithms/blob/main/Random_forest_Regression.ipynb\" target=\"_parent\"><img src=\"https://colab.research.google.com/assets/colab-badge.svg\" alt=\"Open In Colab\"/></a>"
      ]
    },
    {
      "cell_type": "code",
      "execution_count": null,
      "metadata": {
        "id": "CAGRygx9DJme"
      },
      "outputs": [],
      "source": [
        "import numpy as np\n",
        "import matplotlib.pyplot as plt\n",
        "import seaborn as sns\n",
        "from sklearn.model_selection import train_test_split\n",
        "from sklearn.tree import DecisionTreeRegressor\n",
        "from sklearn.decomposition import PCA\n",
        "from sklearn.metrics import mean_squared_error, mean_absolute_error, r2_score\n",
        "\n",
        "class ManualRandomForestRegressor:\n",
        "    def __init__(self, n_estimators=50, max_depth=None, max_features='sqrt', random_state=42):\n",
        "        self.n_estimators = n_estimators\n",
        "        self.max_depth = max_depth\n",
        "        self.max_features = max_features\n",
        "        self.random_state = random_state\n",
        "        self.trees = []\n",
        "        self.subsets = []\n",
        "\n",
        "    def fit(self, X, y):\n",
        "        np.random.seed(self.random_state)\n",
        "        n_samples = X.shape[0]\n",
        "\n",
        "        for _ in range(self.n_estimators):\n",
        "            # Bootstrap Sampling (Random Sampling with Replacement)\n",
        "            indices = np.random.choice(n_samples, n_samples, replace=True)\n",
        "            X_subset, y_subset = X[indices], y[indices]\n",
        "\n",
        "            # Train a Decision Tree\n",
        "            tree = DecisionTreeRegressor(max_depth=self.max_depth)\n",
        "            tree.fit(X_subset, y_subset)\n",
        "\n",
        "            self.trees.append(tree)\n",
        "            self.subsets.append(indices)\n",
        "\n",
        "    def predict(self, X):\n",
        "        # Aggregate Predictions from all Trees (Bagging)\n",
        "        predictions = np.zeros((self.n_estimators, X.shape[0]))\n",
        "\n",
        "        for i, tree in enumerate(self.trees):\n",
        "            predictions[i] = tree.predict(X)\n",
        "\n",
        "        return np.mean(predictions, axis=0)\n",
        "\n",
        "    def evaluate(self, X_train, y_train, X_test, y_test):\n",
        "        y_train_pred = self.predict(X_train)\n",
        "        y_test_pred = self.predict(X_test)\n",
        "\n",
        "        train_mse = mean_squared_error(y_train, y_train_pred)\n",
        "        test_mse = mean_squared_error(y_test, y_test_pred)\n",
        "        train_mae = mean_absolute_error(y_train, y_train_pred)\n",
        "        test_mae = mean_absolute_error(y_test, y_test_pred)\n",
        "        train_r2 = r2_score(y_train, y_train_pred)\n",
        "        test_r2 = r2_score(y_test, y_test_pred)\n",
        "\n",
        "        print(\"Train MSE:\", train_mse)\n",
        "        print(\"Test MSE:\", test_mse)\n",
        "        print(\"Train MAE:\", train_mae)\n",
        "        print(\"Test MAE:\", test_mae)\n",
        "        print(\"Train R² Score:\", train_r2)\n",
        "        print(\"Test R² Score:\", test_r2)\n",
        "\n",
        "        return train_mse, test_mse, train_mae, test_mae, train_r2, test_r2\n",
        "\n",
        "    def plot_decision_boundary(self, X, y):\n",
        "        pca = PCA(n_components=2)\n",
        "        X_pca = pca.fit_transform(X)\n",
        "        xx, yy = np.meshgrid(np.linspace(X_pca[:,0].min()-1, X_pca[:,0].max()+1, 100),\n",
        "                             np.linspace(X_pca[:,1].min()-1, X_pca[:,1].max()+1, 100))\n",
        "        Z = self.predict(pca.inverse_transform(np.c_[xx.ravel(), yy.ravel()]))\n",
        "        Z = Z.reshape(xx.shape)\n",
        "\n",
        "        plt.figure(figsize=(8,6))\n",
        "        plt.contourf(xx, yy, Z, alpha=0.3, cmap='coolwarm')\n",
        "        plt.scatter(X_pca[:,0], X_pca[:,1], c=y, cmap='coolwarm', edgecolor='k')\n",
        "        plt.xlabel(\"PCA Component 1\")\n",
        "        plt.ylabel(\"PCA Component 2\")\n",
        "        plt.title(\"Decision Boundary of Random Forest Regressor\")\n",
        "        plt.colorbar()\n",
        "        plt.show()\n",
        "\n"
      ]
    },
    {
      "cell_type": "code",
      "source": [
        "# Load Dataset from seaborn\n",
        "data = sns.load_dataset(\"penguins\").dropna()\n",
        "X = data.drop(columns=['species']).select_dtypes(include=[np.number]).values\n",
        "y = data['bill_length_mm'].values  # Regression target (continuous variable)\n",
        "\n",
        "# Split Data into Training and Testing Sets\n",
        "X_train, X_test, y_train, y_test = train_test_split(X, y, test_size=0.2, random_state=42)\n",
        "\n",
        "\n"
      ],
      "metadata": {
        "id": "p4OzkMrbDhK9"
      },
      "execution_count": null,
      "outputs": []
    },
    {
      "cell_type": "code",
      "source": [
        "# Train and Evaluate Random Forest Regression Model\n",
        "rf_regressor = ManualRandomForestRegressor(n_estimators=50, max_depth=5, random_state=42)\n",
        "rf_regressor.fit(X_train, y_train)\n",
        "rf_regressor.evaluate(X_train, y_train, X_test, y_test)\n",
        "rf_regressor.plot_decision_boundary(X, y)"
      ],
      "metadata": {
        "id": "_DKE8HdwDiqG"
      },
      "execution_count": null,
      "outputs": []
    }
  ]
}